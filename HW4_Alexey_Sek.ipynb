{
 "cells": [
  {
   "cell_type": "markdown",
   "metadata": {},
   "source": [
    "## Домашняя работа 4. \n",
    "\n",
    "Максимальный балл за задание - 10."
   ]
  },
  {
   "cell_type": "markdown",
   "metadata": {},
   "source": [
    "## Данные\n",
    "\n",
    "\n",
    "В этой домашней работе мы будем обучать модели машинного обучения, ставить эксперименты, подбирать гиперпараметры, сравнивать и смешивать модели. Вам предлагается решить задачу бинарной классификации, а именно построить алгоритм, определяющий превысит ли средний заработок человека порог $50k. Каждый объект выборки — человек, для которого известны следующие признаки:\n",
    " - age\n",
    " - workclass\n",
    " - fnlwgt\n",
    " - education\n",
    " - education-num\n",
    " - marital-status\n",
    " - occupation\n",
    " - relationship\n",
    " - race\n",
    " - sex\n",
    " - capital-gain\n",
    " - capital-loss\n",
    " - hours-per-week\n",
    " \n",
    "Более подробно про признаки можно почитать [здесь](http://archive.ics.uci.edu/ml/machine-learning-databases/adult/adult.names). Целевой признак записан в переменной *>50K,<=50K*."
   ]
  },
  {
   "cell_type": "markdown",
   "metadata": {},
   "source": [
    "## Метрика качества\n",
    "\n",
    "В задании мы будем оценивать качество моделей с помощью метрики AUC-ROC."
   ]
  },
  {
   "cell_type": "markdown",
   "metadata": {},
   "source": [
    "## Подбор гиперпараметров модели\n",
    "\n",
    "В задачах машинного обучения следует различать параметры модели и гиперпараметры (структурные параметры). Обычно параметры модели настраиваются в ходе обучения (например, веса в линейной модели или структура решающего дерева), в то время как гиперпараметры задаются заранее (например, регуляризация в линейной модели или максимальная глубина решающего дерева). Каждая модель обычно имеет множество гиперпараметров, и нет универсальных наборов гиперпараметров, оптимально работающих во всех задачах, для каждой задачи нужно подбирать свой набор.\n",
    "\n",
    "Для оптимизации гиперпараметров модели часто используют _перебор по сетке (grid search)_: для каждого гиперпараметра выбирается несколько значений, перебираются все комбинации значений и выбирается комбинация, на которой модель показывает лучшее качество (с точки зрения метрики, которая оптимизируется). Однако в этом случае нужно грамотно оценивать построенную модель, а именно делать разбиение на обучающую и тестовую выборку. Есть несколько схем, как это можно реализовать: \n",
    "\n",
    " - Разбить имеющуюся выборку на обучающую и тестовую. В этом случае сравнение большого числа моделей при переборе параметров приводит к ситуации, когда лучшая на тестовой подвыборке модель не сохраняет свои качества на новых данных. Можно сказать, что происходит _переобучение_ на тестовую выборку.\n",
    " - Для устранения описанной выше проблемы, можно разбить данные на 3 непересекающихся подвыборки: обучение (`train`), валидация (`validation`) и контроль (`test`). Валидационную подвыборку используют для сравнения моделей, а `test` — для окончательной оценки качества и сравнения семейств моделей с подобранными параметрами.\n",
    " - Другой способ сравнения моделей — [кросс-валидация](http://en.wikipedia.org/wiki/Cross-validation_(statistics). Существуют различные схемы кросс-валидации:\n",
    "  - Leave-One-Out\n",
    "  - K-Fold\n",
    "  - Многократное случайное разбиение выборки\n",
    "  \n",
    "Кросс-валидация вычислительно затратна, особенно если вы делаете перебор по сетке с очень большим числом комбинации. С учетом конечности времени на выполнение задания, возникает ряд компромиссов: \n",
    "  - сетку можно делать более разреженной, перебирая меньше значений каждого параметра; однако, надо не забывать, что в таком случае можно пропустить хорошую комбинацию параметров;\n",
    "  - кросс-валидацию можно делать с меньшим числом разбиений или фолдов, но в таком случае оценка качества кросс-валидации становится более шумной и увеличивается риск выбрать неоптимальный набор параметров из-за случайности разбиения;\n",
    "  - параметры можно оптимизировать последовательно (жадно) — один за другим, а не перебирать все комбинации; такая стратегия не всегда приводит к оптимальному набору;\n",
    "  - перебирать не все комбинации параметров, а небольшое число случайно выбранных."
   ]
  },
  {
   "cell_type": "code",
   "execution_count": 141,
   "metadata": {},
   "outputs": [
    {
     "name": "stdout",
     "output_type": "stream",
     "text": [
      "Populating the interactive namespace from numpy and matplotlib\n"
     ]
    }
   ],
   "source": [
    "# Импортируем нужные библиотеки\n",
    "\n",
    "import pandas as pd\n",
    "import matplotlib.pyplot as plt\n",
    "import numpy as np\n",
    "%pylab inline\n",
    "from sklearn.linear_model import LogisticRegression\n",
    "from sklearn.metrics import accuracy_score\n",
    "from sklearn.model_selection import train_test_split\n",
    "from sklearn.model_selection import cross_validate\n",
    "from sklearn.model_selection import KFold\n",
    "from sklearn.model_selection import GridSearchCV\n",
    "from sklearn.metrics import f1_score\n",
    "from sklearn.metrics import roc_auc_score\n",
    "import seaborn as sns\n",
    "from sklearn.metrics import recall_score\n",
    "from sklearn.metrics import precision_score\n",
    "from category_encoders.leave_one_out import LeaveOneOutEncoder\n",
    "from sklearn.preprocessing import StandardScaler\n",
    "from sklearn.preprocessing import OneHotEncoder\n",
    "from sklearn.preprocessing import LabelEncoder\n",
    "from sklearn import svm\n",
    "from sklearn.preprocessing import PolynomialFeatures\n",
    "from sklearn.preprocessing import StandardScaler\n",
    "from sklearn.preprocessing import MinMaxScaler\n",
    "from sklearn.svm import SVC\n",
    "import itertools\n",
    "from sklearn.metrics import confusion_matrix\n",
    "from sklearn.feature_selection import RFE\n",
    "from sklearn.feature_selection import f_classif, chi2, mutual_info_classif\n",
    "from sklearn.feature_selection import SelectKBest, SelectPercentile\n",
    "from sklearn.pipeline import Pipeline\n",
    "import sklearn\n",
    "from sklearn.feature_selection import SelectFromModel\n",
    "from sklearn.tree import DecisionTreeClassifier, DecisionTreeRegressor, plot_tree\n",
    "from mlxtend.plotting import plot_decision_regions\n",
    "import warnings\n",
    "warnings.filterwarnings('ignore')\n",
    "from mlxtend.data import iris_data\n",
    "from mlxtend.evaluate import bias_variance_decomp\n",
    "from sklearn.ensemble import RandomForestClassifier, RandomForestRegressor\n",
    "from sklearn.metrics import mean_squared_error\n",
    "from tqdm import tqdm\n",
    "from sklearn.metrics import r2_score\n",
    "from sklearn.neighbors import KNeighborsClassifier\n",
    "from sklearn.tree import DecisionTreeClassifier\n",
    "from sklearn.linear_model import SGDClassifier\n",
    "from sklearn.ensemble import RandomForestClassifier\n",
    "from sklearn.ensemble import GradientBoostingClassifier\n",
    "\n",
    "from typing import Iterable, List, Tuple\n"
   ]
  },
  {
   "cell_type": "markdown",
   "metadata": {},
   "source": [
    "## Задание "
   ]
  },
  {
   "cell_type": "markdown",
   "metadata": {},
   "source": [
    "Загрузите набор данных *data.adult.csv*. Чтобы лучше понимать, с чем вы работаете/корректно ли вы загрузили данные можно вывести несколько первых строк на экран."
   ]
  },
  {
   "cell_type": "code",
   "execution_count": 9,
   "metadata": {},
   "outputs": [
    {
     "data": {
      "text/html": [
       "<div>\n",
       "<style scoped>\n",
       "    .dataframe tbody tr th:only-of-type {\n",
       "        vertical-align: middle;\n",
       "    }\n",
       "\n",
       "    .dataframe tbody tr th {\n",
       "        vertical-align: top;\n",
       "    }\n",
       "\n",
       "    .dataframe thead th {\n",
       "        text-align: right;\n",
       "    }\n",
       "</style>\n",
       "<table border=\"1\" class=\"dataframe\">\n",
       "  <thead>\n",
       "    <tr style=\"text-align: right;\">\n",
       "      <th></th>\n",
       "      <th>age</th>\n",
       "      <th>workclass</th>\n",
       "      <th>fnlwgt</th>\n",
       "      <th>education</th>\n",
       "      <th>education-num</th>\n",
       "      <th>marital-status</th>\n",
       "      <th>occupation</th>\n",
       "      <th>relationship</th>\n",
       "      <th>race</th>\n",
       "      <th>sex</th>\n",
       "      <th>capital-gain</th>\n",
       "      <th>capital-loss</th>\n",
       "      <th>hours-per-week</th>\n",
       "      <th>&gt;50K,&lt;=50K</th>\n",
       "    </tr>\n",
       "  </thead>\n",
       "  <tbody>\n",
       "    <tr>\n",
       "      <th>0</th>\n",
       "      <td>34</td>\n",
       "      <td>Local-gov</td>\n",
       "      <td>284843</td>\n",
       "      <td>HS-grad</td>\n",
       "      <td>9</td>\n",
       "      <td>Never-married</td>\n",
       "      <td>Farming-fishing</td>\n",
       "      <td>Not-in-family</td>\n",
       "      <td>Black</td>\n",
       "      <td>Male</td>\n",
       "      <td>594</td>\n",
       "      <td>0</td>\n",
       "      <td>60</td>\n",
       "      <td>&lt;=50K</td>\n",
       "    </tr>\n",
       "    <tr>\n",
       "      <th>1</th>\n",
       "      <td>40</td>\n",
       "      <td>Private</td>\n",
       "      <td>190290</td>\n",
       "      <td>Some-college</td>\n",
       "      <td>10</td>\n",
       "      <td>Divorced</td>\n",
       "      <td>Sales</td>\n",
       "      <td>Not-in-family</td>\n",
       "      <td>White</td>\n",
       "      <td>Male</td>\n",
       "      <td>0</td>\n",
       "      <td>0</td>\n",
       "      <td>40</td>\n",
       "      <td>&lt;=50K</td>\n",
       "    </tr>\n",
       "    <tr>\n",
       "      <th>2</th>\n",
       "      <td>36</td>\n",
       "      <td>Local-gov</td>\n",
       "      <td>177858</td>\n",
       "      <td>Bachelors</td>\n",
       "      <td>13</td>\n",
       "      <td>Married-civ-spouse</td>\n",
       "      <td>Prof-specialty</td>\n",
       "      <td>Own-child</td>\n",
       "      <td>White</td>\n",
       "      <td>Male</td>\n",
       "      <td>0</td>\n",
       "      <td>0</td>\n",
       "      <td>40</td>\n",
       "      <td>&lt;=50K</td>\n",
       "    </tr>\n",
       "    <tr>\n",
       "      <th>3</th>\n",
       "      <td>22</td>\n",
       "      <td>Private</td>\n",
       "      <td>184756</td>\n",
       "      <td>Some-college</td>\n",
       "      <td>10</td>\n",
       "      <td>Never-married</td>\n",
       "      <td>Sales</td>\n",
       "      <td>Own-child</td>\n",
       "      <td>White</td>\n",
       "      <td>Female</td>\n",
       "      <td>0</td>\n",
       "      <td>0</td>\n",
       "      <td>30</td>\n",
       "      <td>&lt;=50K</td>\n",
       "    </tr>\n",
       "    <tr>\n",
       "      <th>4</th>\n",
       "      <td>47</td>\n",
       "      <td>Private</td>\n",
       "      <td>149700</td>\n",
       "      <td>Bachelors</td>\n",
       "      <td>13</td>\n",
       "      <td>Married-civ-spouse</td>\n",
       "      <td>Tech-support</td>\n",
       "      <td>Husband</td>\n",
       "      <td>White</td>\n",
       "      <td>Male</td>\n",
       "      <td>15024</td>\n",
       "      <td>0</td>\n",
       "      <td>40</td>\n",
       "      <td>&gt;50K</td>\n",
       "    </tr>\n",
       "  </tbody>\n",
       "</table>\n",
       "</div>"
      ],
      "text/plain": [
       "   age  workclass  fnlwgt     education  education-num      marital-status  \\\n",
       "0   34  Local-gov  284843       HS-grad              9       Never-married   \n",
       "1   40    Private  190290  Some-college             10            Divorced   \n",
       "2   36  Local-gov  177858     Bachelors             13  Married-civ-spouse   \n",
       "3   22    Private  184756  Some-college             10       Never-married   \n",
       "4   47    Private  149700     Bachelors             13  Married-civ-spouse   \n",
       "\n",
       "        occupation   relationship   race     sex  capital-gain  capital-loss  \\\n",
       "0  Farming-fishing  Not-in-family  Black    Male           594             0   \n",
       "1            Sales  Not-in-family  White    Male             0             0   \n",
       "2   Prof-specialty      Own-child  White    Male             0             0   \n",
       "3            Sales      Own-child  White  Female             0             0   \n",
       "4     Tech-support        Husband  White    Male         15024             0   \n",
       "\n",
       "   hours-per-week >50K,<=50K  \n",
       "0              60      <=50K  \n",
       "1              40      <=50K  \n",
       "2              40      <=50K  \n",
       "3              30      <=50K  \n",
       "4              40       >50K  "
      ]
     },
     "execution_count": 9,
     "metadata": {},
     "output_type": "execute_result"
    }
   ],
   "source": [
    "df = pd.read_csv('/Users/alexeysek/Desktop/ML/HW4/data.adult.csv')\n",
    "df.head(5)"
   ]
  },
  {
   "cell_type": "markdown",
   "metadata": {},
   "source": [
    "Иногда в данных встречаются пропуски. Как задаются пропуски обычно либо прописывается в описании к данным, либо просто на месте пропуска после чтения данных оказывается значение numpy.nan. Более подробно о работе с пропусками в Pandas можно прочитать например [здесь](http://pandas.pydata.org/pandas-docs/stable/missing_data.html). \n",
    "\n",
    "В данном датасете пропущенные значения обозначены как \"?\". \n",
    "\n",
    "**Задание 1 (0.5 балла)** Найдите все признаки, имеющие пропущенные значения. Удалите из выборки все объекты с пропусками."
   ]
  },
  {
   "cell_type": "code",
   "execution_count": 10,
   "metadata": {},
   "outputs": [
    {
     "data": {
      "text/html": [
       "<div>\n",
       "<style scoped>\n",
       "    .dataframe tbody tr th:only-of-type {\n",
       "        vertical-align: middle;\n",
       "    }\n",
       "\n",
       "    .dataframe tbody tr th {\n",
       "        vertical-align: top;\n",
       "    }\n",
       "\n",
       "    .dataframe thead th {\n",
       "        text-align: right;\n",
       "    }\n",
       "</style>\n",
       "<table border=\"1\" class=\"dataframe\">\n",
       "  <thead>\n",
       "    <tr style=\"text-align: right;\">\n",
       "      <th></th>\n",
       "      <th>age</th>\n",
       "      <th>workclass</th>\n",
       "      <th>fnlwgt</th>\n",
       "      <th>education</th>\n",
       "      <th>education-num</th>\n",
       "      <th>marital-status</th>\n",
       "      <th>occupation</th>\n",
       "      <th>relationship</th>\n",
       "      <th>race</th>\n",
       "      <th>sex</th>\n",
       "      <th>capital-gain</th>\n",
       "      <th>capital-loss</th>\n",
       "      <th>hours-per-week</th>\n",
       "      <th>&gt;50K,&lt;=50K</th>\n",
       "    </tr>\n",
       "  </thead>\n",
       "  <tbody>\n",
       "    <tr>\n",
       "      <th>0</th>\n",
       "      <td>34</td>\n",
       "      <td>Local-gov</td>\n",
       "      <td>284843</td>\n",
       "      <td>HS-grad</td>\n",
       "      <td>9</td>\n",
       "      <td>Never-married</td>\n",
       "      <td>Farming-fishing</td>\n",
       "      <td>Not-in-family</td>\n",
       "      <td>Black</td>\n",
       "      <td>Male</td>\n",
       "      <td>594</td>\n",
       "      <td>0</td>\n",
       "      <td>60</td>\n",
       "      <td>&lt;=50K</td>\n",
       "    </tr>\n",
       "    <tr>\n",
       "      <th>1</th>\n",
       "      <td>40</td>\n",
       "      <td>Private</td>\n",
       "      <td>190290</td>\n",
       "      <td>Some-college</td>\n",
       "      <td>10</td>\n",
       "      <td>Divorced</td>\n",
       "      <td>Sales</td>\n",
       "      <td>Not-in-family</td>\n",
       "      <td>White</td>\n",
       "      <td>Male</td>\n",
       "      <td>0</td>\n",
       "      <td>0</td>\n",
       "      <td>40</td>\n",
       "      <td>&lt;=50K</td>\n",
       "    </tr>\n",
       "    <tr>\n",
       "      <th>2</th>\n",
       "      <td>36</td>\n",
       "      <td>Local-gov</td>\n",
       "      <td>177858</td>\n",
       "      <td>Bachelors</td>\n",
       "      <td>13</td>\n",
       "      <td>Married-civ-spouse</td>\n",
       "      <td>Prof-specialty</td>\n",
       "      <td>Own-child</td>\n",
       "      <td>White</td>\n",
       "      <td>Male</td>\n",
       "      <td>0</td>\n",
       "      <td>0</td>\n",
       "      <td>40</td>\n",
       "      <td>&lt;=50K</td>\n",
       "    </tr>\n",
       "    <tr>\n",
       "      <th>3</th>\n",
       "      <td>22</td>\n",
       "      <td>Private</td>\n",
       "      <td>184756</td>\n",
       "      <td>Some-college</td>\n",
       "      <td>10</td>\n",
       "      <td>Never-married</td>\n",
       "      <td>Sales</td>\n",
       "      <td>Own-child</td>\n",
       "      <td>White</td>\n",
       "      <td>Female</td>\n",
       "      <td>0</td>\n",
       "      <td>0</td>\n",
       "      <td>30</td>\n",
       "      <td>&lt;=50K</td>\n",
       "    </tr>\n",
       "    <tr>\n",
       "      <th>4</th>\n",
       "      <td>47</td>\n",
       "      <td>Private</td>\n",
       "      <td>149700</td>\n",
       "      <td>Bachelors</td>\n",
       "      <td>13</td>\n",
       "      <td>Married-civ-spouse</td>\n",
       "      <td>Tech-support</td>\n",
       "      <td>Husband</td>\n",
       "      <td>White</td>\n",
       "      <td>Male</td>\n",
       "      <td>15024</td>\n",
       "      <td>0</td>\n",
       "      <td>40</td>\n",
       "      <td>&gt;50K</td>\n",
       "    </tr>\n",
       "  </tbody>\n",
       "</table>\n",
       "</div>"
      ],
      "text/plain": [
       "   age  workclass  fnlwgt     education  education-num      marital-status  \\\n",
       "0   34  Local-gov  284843       HS-grad              9       Never-married   \n",
       "1   40    Private  190290  Some-college             10            Divorced   \n",
       "2   36  Local-gov  177858     Bachelors             13  Married-civ-spouse   \n",
       "3   22    Private  184756  Some-college             10       Never-married   \n",
       "4   47    Private  149700     Bachelors             13  Married-civ-spouse   \n",
       "\n",
       "        occupation   relationship   race     sex  capital-gain  capital-loss  \\\n",
       "0  Farming-fishing  Not-in-family  Black    Male           594             0   \n",
       "1            Sales  Not-in-family  White    Male             0             0   \n",
       "2   Prof-specialty      Own-child  White    Male             0             0   \n",
       "3            Sales      Own-child  White  Female             0             0   \n",
       "4     Tech-support        Husband  White    Male         15024             0   \n",
       "\n",
       "   hours-per-week >50K,<=50K  \n",
       "0              60      <=50K  \n",
       "1              40      <=50K  \n",
       "2              40      <=50K  \n",
       "3              30      <=50K  \n",
       "4              40       >50K  "
      ]
     },
     "execution_count": 10,
     "metadata": {},
     "output_type": "execute_result"
    }
   ],
   "source": [
    "# Нам нужно удалить именно объекты, а не столбцы\n",
    "df = df.dropna()\n",
    "df.head()"
   ]
  },
  {
   "cell_type": "markdown",
   "metadata": {},
   "source": [
    "Обычно после загрузки датасета всегда необходима его некоторая предобработка. В данном случае она будет заключаться в следующем: \n",
    "\n",
    " - Выделите целевую переменную в отдельную переменную, удалите ее из датасета и преобразуйте к бинарному формату.\n",
    " - Обратите внимание, что не все признаки являются вещественными. В начале мы будем работать только с вещественными признаками. Выделите их отдельно."
   ]
  },
  {
   "cell_type": "code",
   "execution_count": 18,
   "metadata": {},
   "outputs": [
    {
     "data": {
      "text/html": [
       "<div>\n",
       "<style scoped>\n",
       "    .dataframe tbody tr th:only-of-type {\n",
       "        vertical-align: middle;\n",
       "    }\n",
       "\n",
       "    .dataframe tbody tr th {\n",
       "        vertical-align: top;\n",
       "    }\n",
       "\n",
       "    .dataframe thead th {\n",
       "        text-align: right;\n",
       "    }\n",
       "</style>\n",
       "<table border=\"1\" class=\"dataframe\">\n",
       "  <thead>\n",
       "    <tr style=\"text-align: right;\">\n",
       "      <th></th>\n",
       "      <th>&gt;50K,&lt;=50K</th>\n",
       "    </tr>\n",
       "  </thead>\n",
       "  <tbody>\n",
       "    <tr>\n",
       "      <th>0</th>\n",
       "      <td>0</td>\n",
       "    </tr>\n",
       "    <tr>\n",
       "      <th>1</th>\n",
       "      <td>0</td>\n",
       "    </tr>\n",
       "    <tr>\n",
       "      <th>2</th>\n",
       "      <td>0</td>\n",
       "    </tr>\n",
       "    <tr>\n",
       "      <th>3</th>\n",
       "      <td>0</td>\n",
       "    </tr>\n",
       "    <tr>\n",
       "      <th>4</th>\n",
       "      <td>1</td>\n",
       "    </tr>\n",
       "  </tbody>\n",
       "</table>\n",
       "</div>"
      ],
      "text/plain": [
       "   >50K,<=50K\n",
       "0           0\n",
       "1           0\n",
       "2           0\n",
       "3           0\n",
       "4           1"
      ]
     },
     "execution_count": 18,
     "metadata": {},
     "output_type": "execute_result"
    }
   ],
   "source": [
    "# Вытащим y из датасета\n",
    "y = pd.DataFrame(df['>50K,<=50K'] == '>50K')\n",
    "y = y.astype(int)\n",
    "y.head(5)"
   ]
  },
  {
   "cell_type": "code",
   "execution_count": 19,
   "metadata": {},
   "outputs": [
    {
     "data": {
      "text/html": [
       "<div>\n",
       "<style scoped>\n",
       "    .dataframe tbody tr th:only-of-type {\n",
       "        vertical-align: middle;\n",
       "    }\n",
       "\n",
       "    .dataframe tbody tr th {\n",
       "        vertical-align: top;\n",
       "    }\n",
       "\n",
       "    .dataframe thead th {\n",
       "        text-align: right;\n",
       "    }\n",
       "</style>\n",
       "<table border=\"1\" class=\"dataframe\">\n",
       "  <thead>\n",
       "    <tr style=\"text-align: right;\">\n",
       "      <th></th>\n",
       "      <th>age</th>\n",
       "      <th>workclass</th>\n",
       "      <th>fnlwgt</th>\n",
       "      <th>education</th>\n",
       "      <th>education-num</th>\n",
       "      <th>marital-status</th>\n",
       "      <th>occupation</th>\n",
       "      <th>relationship</th>\n",
       "      <th>race</th>\n",
       "      <th>sex</th>\n",
       "      <th>capital-gain</th>\n",
       "      <th>capital-loss</th>\n",
       "      <th>hours-per-week</th>\n",
       "    </tr>\n",
       "  </thead>\n",
       "  <tbody>\n",
       "    <tr>\n",
       "      <th>0</th>\n",
       "      <td>34</td>\n",
       "      <td>Local-gov</td>\n",
       "      <td>284843</td>\n",
       "      <td>HS-grad</td>\n",
       "      <td>9</td>\n",
       "      <td>Never-married</td>\n",
       "      <td>Farming-fishing</td>\n",
       "      <td>Not-in-family</td>\n",
       "      <td>Black</td>\n",
       "      <td>Male</td>\n",
       "      <td>594</td>\n",
       "      <td>0</td>\n",
       "      <td>60</td>\n",
       "    </tr>\n",
       "    <tr>\n",
       "      <th>1</th>\n",
       "      <td>40</td>\n",
       "      <td>Private</td>\n",
       "      <td>190290</td>\n",
       "      <td>Some-college</td>\n",
       "      <td>10</td>\n",
       "      <td>Divorced</td>\n",
       "      <td>Sales</td>\n",
       "      <td>Not-in-family</td>\n",
       "      <td>White</td>\n",
       "      <td>Male</td>\n",
       "      <td>0</td>\n",
       "      <td>0</td>\n",
       "      <td>40</td>\n",
       "    </tr>\n",
       "    <tr>\n",
       "      <th>2</th>\n",
       "      <td>36</td>\n",
       "      <td>Local-gov</td>\n",
       "      <td>177858</td>\n",
       "      <td>Bachelors</td>\n",
       "      <td>13</td>\n",
       "      <td>Married-civ-spouse</td>\n",
       "      <td>Prof-specialty</td>\n",
       "      <td>Own-child</td>\n",
       "      <td>White</td>\n",
       "      <td>Male</td>\n",
       "      <td>0</td>\n",
       "      <td>0</td>\n",
       "      <td>40</td>\n",
       "    </tr>\n",
       "    <tr>\n",
       "      <th>3</th>\n",
       "      <td>22</td>\n",
       "      <td>Private</td>\n",
       "      <td>184756</td>\n",
       "      <td>Some-college</td>\n",
       "      <td>10</td>\n",
       "      <td>Never-married</td>\n",
       "      <td>Sales</td>\n",
       "      <td>Own-child</td>\n",
       "      <td>White</td>\n",
       "      <td>Female</td>\n",
       "      <td>0</td>\n",
       "      <td>0</td>\n",
       "      <td>30</td>\n",
       "    </tr>\n",
       "    <tr>\n",
       "      <th>4</th>\n",
       "      <td>47</td>\n",
       "      <td>Private</td>\n",
       "      <td>149700</td>\n",
       "      <td>Bachelors</td>\n",
       "      <td>13</td>\n",
       "      <td>Married-civ-spouse</td>\n",
       "      <td>Tech-support</td>\n",
       "      <td>Husband</td>\n",
       "      <td>White</td>\n",
       "      <td>Male</td>\n",
       "      <td>15024</td>\n",
       "      <td>0</td>\n",
       "      <td>40</td>\n",
       "    </tr>\n",
       "  </tbody>\n",
       "</table>\n",
       "</div>"
      ],
      "text/plain": [
       "   age  workclass  fnlwgt     education  education-num      marital-status  \\\n",
       "0   34  Local-gov  284843       HS-grad              9       Never-married   \n",
       "1   40    Private  190290  Some-college             10            Divorced   \n",
       "2   36  Local-gov  177858     Bachelors             13  Married-civ-spouse   \n",
       "3   22    Private  184756  Some-college             10       Never-married   \n",
       "4   47    Private  149700     Bachelors             13  Married-civ-spouse   \n",
       "\n",
       "        occupation   relationship   race     sex  capital-gain  capital-loss  \\\n",
       "0  Farming-fishing  Not-in-family  Black    Male           594             0   \n",
       "1            Sales  Not-in-family  White    Male             0             0   \n",
       "2   Prof-specialty      Own-child  White    Male             0             0   \n",
       "3            Sales      Own-child  White  Female             0             0   \n",
       "4     Tech-support        Husband  White    Male         15024             0   \n",
       "\n",
       "   hours-per-week  \n",
       "0              60  \n",
       "1              40  \n",
       "2              40  \n",
       "3              30  \n",
       "4              40  "
      ]
     },
     "execution_count": 19,
     "metadata": {},
     "output_type": "execute_result"
    }
   ],
   "source": [
    "# Вытащим X из датасета\n",
    "X = df.iloc[:,:-1]\n",
    "X.head(5)"
   ]
  },
  {
   "cell_type": "code",
   "execution_count": 20,
   "metadata": {},
   "outputs": [
    {
     "data": {
      "text/html": [
       "<div>\n",
       "<style scoped>\n",
       "    .dataframe tbody tr th:only-of-type {\n",
       "        vertical-align: middle;\n",
       "    }\n",
       "\n",
       "    .dataframe tbody tr th {\n",
       "        vertical-align: top;\n",
       "    }\n",
       "\n",
       "    .dataframe thead th {\n",
       "        text-align: right;\n",
       "    }\n",
       "</style>\n",
       "<table border=\"1\" class=\"dataframe\">\n",
       "  <thead>\n",
       "    <tr style=\"text-align: right;\">\n",
       "      <th></th>\n",
       "      <th>age</th>\n",
       "      <th>fnlwgt</th>\n",
       "      <th>education-num</th>\n",
       "      <th>capital-gain</th>\n",
       "      <th>capital-loss</th>\n",
       "      <th>hours-per-week</th>\n",
       "    </tr>\n",
       "  </thead>\n",
       "  <tbody>\n",
       "    <tr>\n",
       "      <th>0</th>\n",
       "      <td>34</td>\n",
       "      <td>284843</td>\n",
       "      <td>9</td>\n",
       "      <td>594</td>\n",
       "      <td>0</td>\n",
       "      <td>60</td>\n",
       "    </tr>\n",
       "    <tr>\n",
       "      <th>1</th>\n",
       "      <td>40</td>\n",
       "      <td>190290</td>\n",
       "      <td>10</td>\n",
       "      <td>0</td>\n",
       "      <td>0</td>\n",
       "      <td>40</td>\n",
       "    </tr>\n",
       "    <tr>\n",
       "      <th>2</th>\n",
       "      <td>36</td>\n",
       "      <td>177858</td>\n",
       "      <td>13</td>\n",
       "      <td>0</td>\n",
       "      <td>0</td>\n",
       "      <td>40</td>\n",
       "    </tr>\n",
       "    <tr>\n",
       "      <th>3</th>\n",
       "      <td>22</td>\n",
       "      <td>184756</td>\n",
       "      <td>10</td>\n",
       "      <td>0</td>\n",
       "      <td>0</td>\n",
       "      <td>30</td>\n",
       "    </tr>\n",
       "    <tr>\n",
       "      <th>4</th>\n",
       "      <td>47</td>\n",
       "      <td>149700</td>\n",
       "      <td>13</td>\n",
       "      <td>15024</td>\n",
       "      <td>0</td>\n",
       "      <td>40</td>\n",
       "    </tr>\n",
       "  </tbody>\n",
       "</table>\n",
       "</div>"
      ],
      "text/plain": [
       "   age  fnlwgt  education-num  capital-gain  capital-loss  hours-per-week\n",
       "0   34  284843              9           594             0              60\n",
       "1   40  190290             10             0             0              40\n",
       "2   36  177858             13             0             0              40\n",
       "3   22  184756             10             0             0              30\n",
       "4   47  149700             13         15024             0              40"
      ]
     },
     "execution_count": 20,
     "metadata": {},
     "output_type": "execute_result"
    }
   ],
   "source": [
    "# Только вещественные признаки\n",
    "X_real = df[['age', 'fnlwgt', 'education-num', 'capital-gain', 'capital-loss', 'hours-per-week']]\n",
    "X_real.head(5)"
   ]
  },
  {
   "cell_type": "markdown",
   "metadata": {},
   "source": [
    "## Обучение классификаторов на вещественных признаках\n",
    "\n",
    "В данном разделе необходимо будет работать только с вещественными признаками и целевой переменной.\n",
    "\n",
    "В начале посмотрим как работает подбор параметров по сетке и как влияет на качество разбиение выборки. Сейчас и далее будем рассматривать 5 алгоритмов:\n",
    " - [kNN](http://scikit-learn.org/stable/modules/generated/sklearn.neighbors.KNeighborsClassifier.html)\n",
    " - [DecisonTree](http://scikit-learn.org/stable/modules/generated/sklearn.tree.DecisionTreeClassifier.html#sklearn.tree.DecisionTreeClassifier)\n",
    " - [SGD Linear Classifier](http://scikit-learn.org/stable/modules/generated/sklearn.linear_model.SGDClassifier.html)\n",
    " - [RandomForest](http://scikit-learn.org/stable/modules/generated/sklearn.ensemble.RandomForestClassifier.html)\n",
    " - [GradientBoosting](https://scikit-learn.org/stable/modules/generated/sklearn.ensemble.GradientBoostingClassifier.html)\n",
    "\n",
    "Для начала у первых трёх алгоритмов выберем один гиперпараметр, который будем оптимизировать:\n",
    " - kNN — число соседей (*n_neighbors*)\n",
    " - DecisonTree — глубина дерева (*max_depth*)\n",
    " - SGD Linear Classifier — оптимизируемая функция (*loss*)\n",
    " \n",
    "Остальные параметры оставляйте в значениях по умолчанию. Для подбора гиперпараметров воспользуйтесь перебором по сетке, который реализован в классе [GridSearchCV](https://scikit-learn.org/stable/modules/generated/sklearn.model_selection.GridSearchCV.html). В качестве схемы кросс-валидации используйте 5-fold cv, которую можно задать с помощью класса [KFold](https://scikit-learn.org/stable/modules/generated/sklearn.model_selection.KFold.html).\n",
    "\n",
    "**Задание 2 (1 балл)** Для каждого из первых трех алгоритмов подберите оптимальные значения указанных гиперпараметров. Для каждого из этих алгоритмов постройте график среднего качества по кросс-валидации при заданном значении гиперпараметра, на котором также отобразите доверительный интервал [m-std, m+std], где m - среднее, std - стандартное отклонение."
   ]
  },
  {
   "cell_type": "code",
   "execution_count": 66,
   "metadata": {},
   "outputs": [],
   "source": [
    "# Let train set be the whole set\n",
    "Xtrain, ytrain = X_real, y"
   ]
  },
  {
   "cell_type": "code",
   "execution_count": 105,
   "metadata": {},
   "outputs": [
    {
     "name": "stdout",
     "output_type": "stream",
     "text": [
      "knn_optimal_n: {'n_neighbors': 5}\n",
      "knn_mean_test_score: [0.61724989 0.63728355 0.63935219 0.64362885 0.64461104 0.64076782\n",
      " 0.63845829 0.63757354 0.63767501 0.63715813 0.63592794 0.63591173\n",
      " 0.63490571 0.63372474 0.63134303 0.62999522 0.62942239 0.62941141\n",
      " 0.62867228 0.6278202  0.62637364 0.62566335 0.62457588 0.62369834\n",
      " 0.62426826 0.62423763 0.62456154 0.62328996 0.62257801 0.6224057\n",
      " 0.6219606  0.62263821 0.62178472 0.62130865 0.62030121 0.62061602\n",
      " 0.61993842 0.62023338 0.61997561 0.61935289 0.61853388 0.6180117\n",
      " 0.61781943 0.6172397  0.61759762 0.61759451 0.61699142 0.61724845\n",
      " 0.61705168]\n",
      "knn_optimal_n_score: [0.00424751 0.00344736 0.00741129 0.00859785 0.00869219 0.00738207\n",
      " 0.00785523 0.00942954 0.00873703 0.0092293  0.01199678 0.01169016\n",
      " 0.01113138 0.00891572 0.00855424 0.00842411 0.00782709 0.00841162\n",
      " 0.00946274 0.0095061  0.00960889 0.00895501 0.0071354  0.00674387\n",
      " 0.0071998  0.00655975 0.00743834 0.00766987 0.0068376  0.00790373\n",
      " 0.00812947 0.00846338 0.00902588 0.00913965 0.00886505 0.0096237\n",
      " 0.01040872 0.00947851 0.00895498 0.00912924 0.00947125 0.00920392\n",
      " 0.00982653 0.0093157  0.00980146 0.01034798 0.00993665 0.00945625\n",
      " 0.00858292]\n"
     ]
    }
   ],
   "source": [
    "#KNN\n",
    "\n",
    "knn = KNeighborsClassifier()\n",
    "params = {'n_neighbors': np.arange(1,50)}\n",
    "\n",
    "grid = GridSearchCV(knn, params, scoring='roc_auc')\n",
    "grid.n_splits_=5\n",
    "grid.fit(Xtrain, ytrain)\n",
    "\n",
    "knn_optimal_n = grid.best_params_\n",
    "\n",
    "# Нужны, чтобы посчитать доверительный интервал\n",
    "knn_mean_test = grid.cv_results_[\"mean_test_score\"]\n",
    "knn_std_test = grid.cv_results_[\"std_test_score\"]\n",
    "\n",
    "print('knn_optimal_n:', knn_optimal_n)\n",
    "print('knn_mean_test_score:', knn_mean_test)\n",
    "print('knn_optimal_n_score:', knn_std_test)"
   ]
  },
  {
   "cell_type": "code",
   "execution_count": 106,
   "metadata": {},
   "outputs": [
    {
     "name": "stdout",
     "output_type": "stream",
     "text": [
      "tree_optimal_n: {'max_depth': 7}\n",
      "tree_mean_test_score: [0.59301167 0.71975313 0.79314635 0.81147086 0.82952424 0.83991076\n",
      " 0.84509024 0.84276106 0.83690643 0.82957368 0.8215494  0.811743\n",
      " 0.80330149 0.79115991 0.77671231 0.76729781 0.757289   0.74540568\n",
      " 0.73946383 0.73133264 0.72614698 0.71742762 0.71419794 0.7075406\n",
      " 0.70228038 0.70312416 0.69960883 0.69492186 0.69363201 0.68988865\n",
      " 0.68968291 0.68612138 0.68585358 0.68465763 0.68538185 0.68462357\n",
      " 0.68361129 0.68414826 0.68550258 0.68242422 0.68548683 0.68229302\n",
      " 0.68238928 0.68301755 0.68499045 0.68228399 0.68232162 0.6832375\n",
      " 0.68360569]\n",
      "tree_optimal_n_score: [0.00401423 0.00575177 0.0045185  0.00236133 0.00372814 0.00311308\n",
      " 0.00435895 0.0036545  0.00520868 0.00342855 0.00326748 0.00416275\n",
      " 0.0036365  0.00353359 0.00542875 0.00385687 0.0054996  0.00576159\n",
      " 0.00559241 0.00841802 0.00652303 0.00644816 0.00409851 0.00452361\n",
      " 0.0063936  0.00581798 0.00827446 0.00578873 0.0073115  0.00532301\n",
      " 0.00904951 0.01123507 0.00793384 0.00835565 0.00699459 0.00934749\n",
      " 0.00770176 0.00856303 0.00712119 0.00764119 0.00787923 0.00616449\n",
      " 0.00592897 0.00656829 0.00838926 0.00551772 0.0071289  0.00422124\n",
      " 0.00892302]\n"
     ]
    }
   ],
   "source": [
    "# DecisionTree\n",
    "\n",
    "tree = DecisionTreeClassifier()\n",
    "params = {'max_depth': np.arange(1,50)}\n",
    "\n",
    "grid = GridSearchCV(tree, params, scoring='roc_auc')\n",
    "grid.n_splits_=5\n",
    "grid.fit(Xtrain, ytrain)\n",
    "\n",
    "tree_optimal_n = grid.best_params_\n",
    "tree_mean_test = grid.cv_results_[\"mean_test_score\"]\n",
    "tree_std_test = grid.cv_results_[\"std_test_score\"]\n",
    "\n",
    "print('tree_optimal_n:', tree_optimal_n)\n",
    "print('tree_mean_test_score:', tree_mean_test)\n",
    "print('tree_optimal_n_score:', tree_std_test)"
   ]
  },
  {
   "cell_type": "code",
   "execution_count": 107,
   "metadata": {},
   "outputs": [
    {
     "name": "stdout",
     "output_type": "stream",
     "text": [
      "sgd_optimal_n: {'loss': 'squared_hinge'}\n",
      "sgd_mean_test_score: [0.61250364 0.60608286 0.59528072 0.61417602 0.61109223 0.49484243\n",
      " 0.50237621 0.49025944]\n",
      "sgd_optimal_n_score: [0.02770021 0.02103667 0.0123583  0.02820483 0.02713739 0.01975655\n",
      " 0.01483046 0.0171785 ]\n"
     ]
    }
   ],
   "source": [
    "# SGD Linear Classifier\n",
    "\n",
    "sgd = SGDClassifier(max_iter=1000)\n",
    "sgd_params = {'loss': ['hinge', 'log', 'modified_huber',\n",
    "                       'squared_hinge', 'perceptron', 'huber',\n",
    "                       'epsilon_insensitive', 'squared_epsilon_insensitive']}\n",
    "\n",
    "grid = GridSearchCV(sgd, sgd_params, scoring='roc_auc')\n",
    "grid.n_splits_=5\n",
    "grid.fit(Xtrain, ytrain)\n",
    "\n",
    "sgd_optimal_n = grid.best_params_\n",
    "sgd_mean_test = grid.cv_results_[\"mean_test_score\"]\n",
    "sgd_std_test = grid.cv_results_[\"std_test_score\"]\n",
    "\n",
    "print('sgd_optimal_n:', sgd_optimal_n)\n",
    "print('sgd_mean_test_score:', sgd_mean_test)\n",
    "print('sgd_optimal_n_score:', sgd_std_test)"
   ]
  },
  {
   "cell_type": "code",
   "execution_count": 108,
   "metadata": {},
   "outputs": [],
   "source": [
    "# Построим доверительные интервалы\n",
    "\n",
    "low_knn = knn_mean_test - 1.96 * knn_std_test\n",
    "top_knn = knn_mean_test + 1.96 * knn_std_test\n",
    "\n",
    "low_tree = tree_mean_test - 1.96 * tree_std_test\n",
    "top_tree = tree_mean_test + 1.96 * tree_std_test\n",
    "\n",
    "error_sgd = 1.96 * sgd_std_test"
   ]
  },
  {
   "cell_type": "code",
   "execution_count": 115,
   "metadata": {
    "scrolled": true
   },
   "outputs": [
    {
     "data": {
      "text/plain": [
       "([0, 1, 2, 3, 4, 5, 6, 7], <a list of 8 Text major ticklabel objects>)"
      ]
     },
     "execution_count": 115,
     "metadata": {},
     "output_type": "execute_result"
    },
    {
     "data": {
      "image/png": "[encoded data removed]",
      "text/plain": [
       "<Figure size 1440x360 with 3 Axes>"
      ]
     },
     "metadata": {
      "needs_background": "light"
     },
     "output_type": "display_data"
    }
   ],
   "source": [
    "# Построим графики\n",
    "fig, axes = plt.subplots(1, 3, sharey=True, figsize=(20,5))\n",
    "\n",
    "# KNN\n",
    "axes[0].plot(knn_mean_test, color='b')\n",
    "axes[0].plot(low_knn, linestyle='dotted', color='y')\n",
    "axes[0].plot(top_knn, linestyle='dotted', color='y')\n",
    "# Описание для графика\n",
    "axes[0].set_title('KNN classifier')\n",
    "axes[0].set_xlabel(\"n_neighbors\")\n",
    "axes[0].set_ylabel(\"ROC-AUC\")\n",
    "\n",
    "# Tree\n",
    "axes[1].plot(tree_mean_test, color='b')\n",
    "axes[1].plot(low_tree, linestyle='dotted', color='y')\n",
    "axes[1].plot(top_tree, linestyle='dotted', color='y')\n",
    "# Описание для графика\n",
    "axes[1].set_title('Decision Tree classifier')\n",
    "axes[1].set_xlabel(\"max_depth\")\n",
    "\n",
    "\n",
    "# SGD\n",
    "axes[2].errorbar(sgd_params[\"loss\"], sgd_mean_test, yerr = error_sgd, linestyle = '', marker='.')\n",
    "# Описание для графика\n",
    "axes[2].set_title('SGD linear classifier')\n",
    "axes[2].set_xlabel(\"loss\")\n",
    "plt.xticks(rotation = 50)"
   ]
  },
  {
   "cell_type": "markdown",
   "metadata": {},
   "source": [
    "Что вы можете сказать о получившихся графиках?"
   ]
  },
  {
   "cell_type": "markdown",
   "metadata": {},
   "source": [
    "**Выводы:** \n",
    "\n",
    "Наилучшая модель - решающая дерева с максимальной глубиной 7, если мы рассматриваем критерий ROC-AUC\n",
    "Если мы увеличим глубину - средняя метрика качества на кросс-валидации будет падать (переобучение)\n",
    "\n",
    "Похожу ситуацию мы видим и для KNN классификатора, для которого оптимальное число соседей - 4, при их увеличении метрика качества на кросс-валидации так же будет падать (переобучение)"
   ]
  },
  {
   "cell_type": "markdown",
   "metadata": {},
   "source": [
    "\n",
    "**Задание 3 (0.5 балла)** Также подберём число деревьев (*n_estimators*) в алгоритме RandomForest. Как известно, в общем случае Random Forest не переобучается с увеличением количества деревьев, так что при увеличении этого гиперпараметра его качество не будет становиться хуже. Поэтому подберите такое количество деревьев, при котором качество на кросс-валидации стабилизируется. Обратите внимание, что для проведения этого эксперимента не нужно с нуля обучать много случайных лесов с различными количествами деревьев. Обучите один случайный лес с максимальным интересным количеством деревьев, а затем рассмотрите подмножества разных размеров, состоящие из деревьев построенного леса (поле [*estimators_*](http://scikit-learn.org/stable/modules/generated/sklearn.ensemble.RandomForestClassifier.html)). В дальнейших экспериментах используйте это количество деревьев."
   ]
  },
  {
   "cell_type": "code",
   "execution_count": 120,
   "metadata": {},
   "outputs": [
    {
     "data": {
      "text/plain": [
       "Text(0, 0.5, 'Mean ROC-AUC')"
      ]
     },
     "execution_count": 120,
     "metadata": {},
     "output_type": "execute_result"
    },
    {
     "data": {
      "image/png": "[encoded data removed]",
      "text/plain": [
       "<Figure size 1440x360 with 1 Axes>"
      ]
     },
     "metadata": {
      "needs_background": "light"
     },
     "output_type": "display_data"
    }
   ],
   "source": [
    "# Random Forest\n",
    "\n",
    "# Обучим один лес с максимальным интересным количеством деревьев\n",
    "rf = RandomForestClassifier()\n",
    "rf_params = {'n_estimators' : range(5, 250, 10)}\n",
    "grid = GridSearchCV(rf, rf_params, scoring = 'roc_auc')\n",
    "grid.fit(X_real, y)\n",
    "\n",
    "# Построим ROC-AUC в зависимости от количества деревьев\n",
    "rf_mean_test = grid.cv_results_[\"mean_test_score\"]\n",
    "fig, ax = plt.subplots(figsize=(20, 5))\n",
    "ax.plot(rf_params[\"n_estimators\"], rf_mean_test, color='b')\n",
    "# Описание для графика\n",
    "ax.set_title('Random Forest');\n",
    "ax.set_xlabel(\"n_estimators\")\n",
    "ax.set_ylabel(\"Mean ROC-AUC\")"
   ]
  },
  {
   "cell_type": "markdown",
   "metadata": {},
   "source": [
    "**Выводы:** Так сказать, \"на глаз\" после 150 деревьев метрика ROC-AUC стабилизируется\n",
    "\n",
    "Поэтому я буду считать 150 оптимальным количеством деревьев для random forest"
   ]
  },
  {
   "cell_type": "markdown",
   "metadata": {},
   "source": [
    "**Задание 4 (0.5 балла)** Подберём число деревьев (*n_estimators*) в алгоритме GradientBoosting. Мы знаем, что ошибка бустинга на тестовых данных, как правило, имеет U-образную форму, то есть сначала уменьшается, а при достижении некоторого числа деревьев начинает расти. Нарисуйте график ошибки в зависимости от числа деревьев. Подберите n_estimators, соответствующий минимуму ошибки."
   ]
  },
  {
   "cell_type": "code",
   "execution_count": 129,
   "metadata": {},
   "outputs": [
    {
     "data": {
      "text/plain": [
       "Text(0, 0.5, 'ROC-AUC')"
      ]
     },
     "execution_count": 129,
     "metadata": {},
     "output_type": "execute_result"
    },
    {
     "data": {
      "image/png": "[encoded data removed]",
      "text/plain": [
       "<Figure size 1440x360 with 1 Axes>"
      ]
     },
     "metadata": {
      "needs_background": "light"
     },
     "output_type": "display_data"
    }
   ],
   "source": [
    "# Gradient Boosting\n",
    "\n",
    "gb = GradientBoostingClassifier()\n",
    "gb_params = {'n_estimators' : range(5, 250, 10)}\n",
    "grid = GridSearchCV(gb, gb_params)\n",
    "grid.fit(X_real, y)\n",
    "grid.n_splits_=5\n",
    "\n",
    "# Построим ROC-AUC в зависимости от количества деревьев\n",
    "gb_mean_test = grid.cv_results_[\"mean_test_score\"]\n",
    "fig, ax = plt.subplots(figsize=(20, 5))\n",
    "ax.plot(gb_params[\"n_estimators\"], gb_mean_test, color='b')\n",
    "# Описание для графика\n",
    "ax.set_title('Gradient Boosting');\n",
    "ax.set_xlabel(\"n_estimators\")\n",
    "ax.set_ylabel(\"ROC-AUC\")"
   ]
  },
  {
   "cell_type": "markdown",
   "metadata": {},
   "source": [
    "**Выводы:** Здесь задание не очень понятно, обычно мы смотрели на ROC-AUC, а тут на loss, я сделал не loss, а ROC-AUC, как и для других пунктов\n",
    "\n",
    "Качество растет по мере увеличения деревьев, но растет и переобучение"
   ]
  },
  {
   "cell_type": "markdown",
   "metadata": {},
   "source": [
    "При обучении алгоритмов стоит обращать внимание не только на качество, но и каким образом они работают с данными. В этой задаче получилось так, что некоторые из используемых алгоритмов чувствительны к масштабу признаков. Чтобы убедиться, что это как-то могло повлиять на качество давайте посмотрим на сами признаки.\n",
    "\n",
    "**Задание 5 (0.5 балла)** Постройте гистограммы для признаков *age*, *fnlwgt*, *capital-gain*. Глядя на получившиеся графики в чем заключается особенность данных? На какие алгоритмы это может повлиять? Может ли масшитабирование повлиять на работу этих алгоритмов?"
   ]
  },
  {
   "cell_type": "code",
   "execution_count": 139,
   "metadata": {},
   "outputs": [
    {
     "data": {
      "text/plain": [
       "Text(0, 0.5, '# of observations')"
      ]
     },
     "execution_count": 139,
     "metadata": {},
     "output_type": "execute_result"
    },
    {
     "data": {
      "image/png": "[encoded data removed]",
      "text/plain": [
       "<Figure size 1440x360 with 3 Axes>"
      ]
     },
     "metadata": {
      "needs_background": "light"
     },
     "output_type": "display_data"
    }
   ],
   "source": [
    "fig, axes = plt.subplots(1, 3, figsize=(20,5))\n",
    "\n",
    "axes[0].hist(df['age'])\n",
    "axes[0].set_title('age')\n",
    "axes[0].set_xlabel('age')\n",
    "axes[0].set_ylabel('# of observations')\n",
    "\n",
    "axes[1].hist(df['fnlwgt'])\n",
    "axes[1].set_title('fnlwgt')\n",
    "axes[1].set_xlabel('fnlwgt')\n",
    "axes[1].set_ylabel('# of observations')\n",
    "\n",
    "axes[2].hist(df['capital-gain'])\n",
    "axes[2].set_title('capital-gain')\n",
    "axes[2].set_xlabel('capital-gain')\n",
    "axes[2].set_ylabel('# of observations')"
   ]
  },
  {
   "cell_type": "markdown",
   "metadata": {},
   "source": [
    "**Выводы:** Так как размерности разные у признаков (age от 0 до 90; fnlwgt от 0 до 1; capital-gain от 0 до 20000), это может влиять на работу линейных классификаторов, например, SGD linear classifier или KNN (вклад в расстояние между соседями некоторых прищнаков больше, чем других). Поэтому для этих алгоритмов необходимо масштабировать данные, чтобы улучшить результаты!\n",
    "\n",
    "В это же время решающие деревья, случайный лес и градиентный бустинг можно применять и без масштабирования признаков, потому что на них не влияет масштаб признаков."
   ]
  },
  {
   "cell_type": "markdown",
   "metadata": {},
   "source": [
    "Масштабирование признаков можно выполнить, например, одним из следующих способов способами:\n",
    " - $x_{new} = \\dfrac{x - \\mu}{\\sigma}$, где $\\mu, \\sigma$ — среднее и стандартное отклонение значения признака по всей выборке (см. функцию [scale](http://scikit-learn.org/stable/modules/generated/sklearn.preprocessing.scale.html))\n",
    " - $x_{new} = \\dfrac{x - x_{min}}{x_{max} - x_{min}}$, где $[x_{min}, x_{max}]$ — минимальный интервал значений признака\n",
    "\n",
    "Похожие схемы масштабирования приведены в классах [StandardScaler](http://scikit-learn.org/stable/modules/generated/sklearn.preprocessing.StandardScaler.html#sklearn.preprocessing.StandardScaler) и [MinMaxScaler](http://scikit-learn.org/stable/modules/generated/sklearn.preprocessing.MinMaxScaler.html#sklearn.preprocessing.MinMaxScaler).\n",
    " \n",
    "**Задание 6 (1 балл)** Масштабируйте все вещественные признаки одним из указанных способов и подберите оптимальные значения гиперпараметров аналогично пункту выше."
   ]
  },
  {
   "cell_type": "code",
   "execution_count": 148,
   "metadata": {},
   "outputs": [
    {
     "data": {
      "text/html": [
       "<div>\n",
       "<style scoped>\n",
       "    .dataframe tbody tr th:only-of-type {\n",
       "        vertical-align: middle;\n",
       "    }\n",
       "\n",
       "    .dataframe tbody tr th {\n",
       "        vertical-align: top;\n",
       "    }\n",
       "\n",
       "    .dataframe thead th {\n",
       "        text-align: right;\n",
       "    }\n",
       "</style>\n",
       "<table border=\"1\" class=\"dataframe\">\n",
       "  <thead>\n",
       "    <tr style=\"text-align: right;\">\n",
       "      <th></th>\n",
       "      <th>age</th>\n",
       "      <th>fnlwgt</th>\n",
       "      <th>education-num</th>\n",
       "      <th>capital-gain</th>\n",
       "      <th>capital-loss</th>\n",
       "      <th>hours-per-week</th>\n",
       "    </tr>\n",
       "  </thead>\n",
       "  <tbody>\n",
       "    <tr>\n",
       "      <th>0</th>\n",
       "      <td>0.232877</td>\n",
       "      <td>0.181207</td>\n",
       "      <td>0.533333</td>\n",
       "      <td>0.005940</td>\n",
       "      <td>0.000000</td>\n",
       "      <td>0.602041</td>\n",
       "    </tr>\n",
       "    <tr>\n",
       "      <th>1</th>\n",
       "      <td>0.315068</td>\n",
       "      <td>0.116683</td>\n",
       "      <td>0.600000</td>\n",
       "      <td>0.000000</td>\n",
       "      <td>0.000000</td>\n",
       "      <td>0.397959</td>\n",
       "    </tr>\n",
       "    <tr>\n",
       "      <th>2</th>\n",
       "      <td>0.260274</td>\n",
       "      <td>0.108200</td>\n",
       "      <td>0.800000</td>\n",
       "      <td>0.000000</td>\n",
       "      <td>0.000000</td>\n",
       "      <td>0.397959</td>\n",
       "    </tr>\n",
       "    <tr>\n",
       "      <th>3</th>\n",
       "      <td>0.068493</td>\n",
       "      <td>0.112907</td>\n",
       "      <td>0.600000</td>\n",
       "      <td>0.000000</td>\n",
       "      <td>0.000000</td>\n",
       "      <td>0.295918</td>\n",
       "    </tr>\n",
       "    <tr>\n",
       "      <th>4</th>\n",
       "      <td>0.410959</td>\n",
       "      <td>0.088984</td>\n",
       "      <td>0.800000</td>\n",
       "      <td>0.150242</td>\n",
       "      <td>0.000000</td>\n",
       "      <td>0.397959</td>\n",
       "    </tr>\n",
       "    <tr>\n",
       "      <th>...</th>\n",
       "      <td>...</td>\n",
       "      <td>...</td>\n",
       "      <td>...</td>\n",
       "      <td>...</td>\n",
       "      <td>...</td>\n",
       "      <td>...</td>\n",
       "    </tr>\n",
       "    <tr>\n",
       "      <th>16275</th>\n",
       "      <td>0.109589</td>\n",
       "      <td>0.338074</td>\n",
       "      <td>0.800000</td>\n",
       "      <td>0.000000</td>\n",
       "      <td>0.000000</td>\n",
       "      <td>0.397959</td>\n",
       "    </tr>\n",
       "    <tr>\n",
       "      <th>16276</th>\n",
       "      <td>0.205479</td>\n",
       "      <td>0.128542</td>\n",
       "      <td>0.800000</td>\n",
       "      <td>0.150242</td>\n",
       "      <td>0.000000</td>\n",
       "      <td>0.448980</td>\n",
       "    </tr>\n",
       "    <tr>\n",
       "      <th>16277</th>\n",
       "      <td>0.136986</td>\n",
       "      <td>0.058110</td>\n",
       "      <td>0.800000</td>\n",
       "      <td>0.000000</td>\n",
       "      <td>0.000000</td>\n",
       "      <td>0.397959</td>\n",
       "    </tr>\n",
       "    <tr>\n",
       "      <th>16278</th>\n",
       "      <td>0.575342</td>\n",
       "      <td>0.170191</td>\n",
       "      <td>0.533333</td>\n",
       "      <td>0.000000</td>\n",
       "      <td>0.000000</td>\n",
       "      <td>0.397959</td>\n",
       "    </tr>\n",
       "    <tr>\n",
       "      <th>16279</th>\n",
       "      <td>0.219178</td>\n",
       "      <td>0.027147</td>\n",
       "      <td>0.800000</td>\n",
       "      <td>0.000000</td>\n",
       "      <td>0.436639</td>\n",
       "      <td>0.448980</td>\n",
       "    </tr>\n",
       "  </tbody>\n",
       "</table>\n",
       "<p>16280 rows × 6 columns</p>\n",
       "</div>"
      ],
      "text/plain": [
       "            age    fnlwgt  education-num  capital-gain  capital-loss  \\\n",
       "0      0.232877  0.181207       0.533333      0.005940      0.000000   \n",
       "1      0.315068  0.116683       0.600000      0.000000      0.000000   \n",
       "2      0.260274  0.108200       0.800000      0.000000      0.000000   \n",
       "3      0.068493  0.112907       0.600000      0.000000      0.000000   \n",
       "4      0.410959  0.088984       0.800000      0.150242      0.000000   \n",
       "...         ...       ...            ...           ...           ...   \n",
       "16275  0.109589  0.338074       0.800000      0.000000      0.000000   \n",
       "16276  0.205479  0.128542       0.800000      0.150242      0.000000   \n",
       "16277  0.136986  0.058110       0.800000      0.000000      0.000000   \n",
       "16278  0.575342  0.170191       0.533333      0.000000      0.000000   \n",
       "16279  0.219178  0.027147       0.800000      0.000000      0.436639   \n",
       "\n",
       "       hours-per-week  \n",
       "0            0.602041  \n",
       "1            0.397959  \n",
       "2            0.397959  \n",
       "3            0.295918  \n",
       "4            0.397959  \n",
       "...               ...  \n",
       "16275        0.397959  \n",
       "16276        0.448980  \n",
       "16277        0.397959  \n",
       "16278        0.397959  \n",
       "16279        0.448980  \n",
       "\n",
       "[16280 rows x 6 columns]"
      ]
     },
     "execution_count": 148,
     "metadata": {},
     "output_type": "execute_result"
    }
   ],
   "source": [
    "# Масштабируем все признаки\n",
    "scaler = MinMaxScaler()\n",
    "cols = X_real.columns.values\n",
    "X_real_new = pd.DataFrame(scaler.fit_transform(X_real))\n",
    "X_real_new.columns = cols\n",
    "X_real_new"
   ]
  },
  {
   "cell_type": "code",
   "execution_count": 149,
   "metadata": {},
   "outputs": [],
   "source": [
    "# Let train set be the whole set\n",
    "Xtrain, ytrain = X_real_new, y"
   ]
  },
  {
   "cell_type": "code",
   "execution_count": 150,
   "metadata": {},
   "outputs": [
    {
     "name": "stdout",
     "output_type": "stream",
     "text": [
      "knn_optimal_n: {'n_neighbors': 43}\n",
      "knn_mean_test_score: [0.66352092 0.71694622 0.7439135  0.76534096 0.77780723 0.78713744\n",
      " 0.79457494 0.80176027 0.80633344 0.81104591 0.8146429  0.81790179\n",
      " 0.8197002  0.82128162 0.82180753 0.82169758 0.82215971 0.82303336\n",
      " 0.82357146 0.82438245 0.82509638 0.8253243  0.8261997  0.82655574\n",
      " 0.82663543 0.82755671 0.82825933 0.82856642 0.82816225 0.82896359\n",
      " 0.82948239 0.83022928 0.83015215 0.83033299 0.83040632 0.83051162\n",
      " 0.83028863 0.83048016 0.83065368 0.83090239 0.83098254 0.83124195\n",
      " 0.83160084 0.83158766 0.83137749 0.83117805 0.83154379 0.83136111\n",
      " 0.83124468]\n",
      "knn_optimal_n_score: [0.00496601 0.00611748 0.00668367 0.00804321 0.0053261  0.00532687\n",
      " 0.00434968 0.00561004 0.00541684 0.00479407 0.00397882 0.00438263\n",
      " 0.00415433 0.00340627 0.00348869 0.00368628 0.0031321  0.00299618\n",
      " 0.00325983 0.0034617  0.00320142 0.00332473 0.00367979 0.00398181\n",
      " 0.00414545 0.0033713  0.00355114 0.00367233 0.00390057 0.00406689\n",
      " 0.00429919 0.00444288 0.00460435 0.004484   0.00442643 0.00459186\n",
      " 0.00462756 0.00431394 0.00432689 0.0044053  0.00414516 0.00408243\n",
      " 0.00385184 0.00398432 0.00386082 0.00387046 0.00399236 0.00404313\n",
      " 0.00420672]\n"
     ]
    }
   ],
   "source": [
    "#KNN\n",
    "\n",
    "knn = KNeighborsClassifier()\n",
    "params = {'n_neighbors': np.arange(1,50)}\n",
    "\n",
    "grid = GridSearchCV(knn, params, scoring='roc_auc')\n",
    "grid.n_splits_=5\n",
    "grid.fit(Xtrain, ytrain)\n",
    "\n",
    "knn_optimal_n = grid.best_params_\n",
    "\n",
    "# Нужны, чтобы посчитать доверительный интервал\n",
    "knn_mean_test = grid.cv_results_[\"mean_test_score\"]\n",
    "knn_std_test = grid.cv_results_[\"std_test_score\"]\n",
    "\n",
    "print('knn_optimal_n:', knn_optimal_n)\n",
    "print('knn_mean_test_score:', knn_mean_test)\n",
    "print('knn_optimal_n_score:', knn_std_test)"
   ]
  },
  {
   "cell_type": "code",
   "execution_count": 151,
   "metadata": {},
   "outputs": [
    {
     "name": "stdout",
     "output_type": "stream",
     "text": [
      "tree_optimal_n: {'max_depth': 7}\n",
      "tree_mean_test_score: [0.59301167 0.71975313 0.79314635 0.81147086 0.82969066 0.83965757\n",
      " 0.84498469 0.84283767 0.8370541  0.83015248 0.82214732 0.81171769\n",
      " 0.80312582 0.79053655 0.77818644 0.76660544 0.75498784 0.74561693\n",
      " 0.73627242 0.7320272  0.72370954 0.71932148 0.71333004 0.70944392\n",
      " 0.7041254  0.69951371 0.70070416 0.69383003 0.69306009 0.69192585\n",
      " 0.68972825 0.68639341 0.68819791 0.68721306 0.68417842 0.68517493\n",
      " 0.68445283 0.68081715 0.68244545 0.68530985 0.68342741 0.68276396\n",
      " 0.68514802 0.68405235 0.68401811 0.68284771 0.68412355 0.68521702\n",
      " 0.68502204]\n",
      "tree_optimal_n_score: [0.00401423 0.00575177 0.0045185  0.00236133 0.00354818 0.00321182\n",
      " 0.00426636 0.0035332  0.0036551  0.00302299 0.00259162 0.00287947\n",
      " 0.00373964 0.00257689 0.0060258  0.0067016  0.00495783 0.00650132\n",
      " 0.00492224 0.00649936 0.00371032 0.00404957 0.00430724 0.00208507\n",
      " 0.00521635 0.00630076 0.00762379 0.00476784 0.00948877 0.00847245\n",
      " 0.00815882 0.00949026 0.00969283 0.00828189 0.00877851 0.00513904\n",
      " 0.0062365  0.00539069 0.00674064 0.00817595 0.00796809 0.00842144\n",
      " 0.00585008 0.00637443 0.00713774 0.00828429 0.00485642 0.01011079\n",
      " 0.0065447 ]\n"
     ]
    }
   ],
   "source": [
    "# DecisionTree\n",
    "\n",
    "tree = DecisionTreeClassifier()\n",
    "params = {'max_depth': np.arange(1,50)}\n",
    "\n",
    "grid = GridSearchCV(tree, params, scoring='roc_auc')\n",
    "grid.n_splits_=5\n",
    "grid.fit(Xtrain, ytrain)\n",
    "\n",
    "tree_optimal_n = grid.best_params_\n",
    "tree_mean_test = grid.cv_results_[\"mean_test_score\"]\n",
    "tree_std_test = grid.cv_results_[\"std_test_score\"]\n",
    "\n",
    "print('tree_optimal_n:', tree_optimal_n)\n",
    "print('tree_mean_test_score:', tree_mean_test)\n",
    "print('tree_optimal_n_score:', tree_std_test)"
   ]
  },
  {
   "cell_type": "code",
   "execution_count": 152,
   "metadata": {},
   "outputs": [
    {
     "name": "stdout",
     "output_type": "stream",
     "text": [
      "sgd_optimal_n: {'loss': 'modified_huber'}\n",
      "sgd_mean_test_score: [0.82361853 0.82414679 0.82871341 0.81392654 0.82229788 0.81430683\n",
      " 0.81560411 0.81738706]\n",
      "sgd_optimal_n_score: [0.00309667 0.00455239 0.00404324 0.00631071 0.0053019  0.0023783\n",
      " 0.00168333 0.00395287]\n"
     ]
    }
   ],
   "source": [
    "# SGD Linear Classifier\n",
    "\n",
    "sgd = SGDClassifier(max_iter=1000)\n",
    "sgd_params = {'loss': ['hinge', 'log', 'modified_huber',\n",
    "                       'squared_hinge', 'perceptron', 'huber',\n",
    "                       'epsilon_insensitive', 'squared_epsilon_insensitive']}\n",
    "\n",
    "grid = GridSearchCV(sgd, sgd_params, scoring='roc_auc')\n",
    "grid.n_splits_=5\n",
    "grid.fit(Xtrain, ytrain)\n",
    "\n",
    "sgd_optimal_n = grid.best_params_\n",
    "sgd_mean_test = grid.cv_results_[\"mean_test_score\"]\n",
    "sgd_std_test = grid.cv_results_[\"std_test_score\"]\n",
    "\n",
    "print('sgd_optimal_n:', sgd_optimal_n)\n",
    "print('sgd_mean_test_score:', sgd_mean_test)\n",
    "print('sgd_optimal_n_score:', sgd_std_test)"
   ]
  },
  {
   "cell_type": "code",
   "execution_count": 154,
   "metadata": {},
   "outputs": [],
   "source": [
    "# Random Forest\n",
    "\n",
    "# Обучим один лес с максимальным интересным количеством деревьев\n",
    "rf = RandomForestClassifier()\n",
    "rf_params = {'n_estimators' : range(5, 250, 10)}\n",
    "grid = GridSearchCV(rf, rf_params, scoring = 'roc_auc')\n",
    "grid.fit(X_real, y)\n",
    "\n",
    "rf_mean_test = grid.cv_results_[\"mean_test_score\"]"
   ]
  },
  {
   "cell_type": "code",
   "execution_count": 156,
   "metadata": {},
   "outputs": [
    {
     "data": {
      "text/plain": [
       "array([0.77905473, 0.80709841, 0.81103148, 0.81676715, 0.81950348,\n",
       "       0.82120182, 0.82147214, 0.82208557, 0.82099034, 0.82319375,\n",
       "       0.82264967, 0.82329105, 0.82340289, 0.82480726, 0.82451981,\n",
       "       0.82444901, 0.82463838, 0.82393524, 0.82438831, 0.82418649,\n",
       "       0.82430047, 0.82496363, 0.82457218, 0.82562293, 0.8254702 ])"
      ]
     },
     "execution_count": 156,
     "metadata": {},
     "output_type": "execute_result"
    }
   ],
   "source": [
    "rf_mean_test"
   ]
  },
  {
   "cell_type": "code",
   "execution_count": 153,
   "metadata": {},
   "outputs": [],
   "source": [
    "# Gradient Boosting\n",
    "\n",
    "gb = GradientBoostingClassifier()\n",
    "gb_params = {'n_estimators' : range(5, 250, 10)}\n",
    "grid = GridSearchCV(gb, gb_params)\n",
    "grid.fit(X_real, y)\n",
    "grid.n_splits_=5\n",
    "\n",
    "gb_mean_test = grid.cv_results_[\"mean_test_score\"]"
   ]
  },
  {
   "cell_type": "code",
   "execution_count": 155,
   "metadata": {},
   "outputs": [
    {
     "data": {
      "text/plain": [
       "array([0.79766585, 0.81578624, 0.82782555, 0.83034398, 0.83175676,\n",
       "       0.83421376, 0.83439803, 0.83495086, 0.83624079, 0.83667076,\n",
       "       0.83710074, 0.83765356, 0.83777641, 0.83789926, 0.83796069,\n",
       "       0.83839066, 0.83888206, 0.83912776, 0.83925061, 0.83918919,\n",
       "       0.83906634, 0.83943489, 0.83925061, 0.83949631, 0.83980344])"
      ]
     },
     "execution_count": 155,
     "metadata": {},
     "output_type": "execute_result"
    }
   ],
   "source": [
    "gb_mean_test"
   ]
  },
  {
   "cell_type": "markdown",
   "metadata": {},
   "source": [
    "Изменилось ли качество у некоторых алгоритмов?"
   ]
  },
  {
   "cell_type": "markdown",
   "metadata": {},
   "source": [
    "**Выводы:**\n",
    "- KNN - изменился гиперпараметр количества соседей, стал 43 -> качество изменилось (улучшилось)\n",
    "- SGD linear - изменился гиперпараметр 'loss', стал 'modified_huber -> качество изменилось (улучшилось)\n",
    "- Decision tree - не поменялся выбор гиперпараметра -> нет изменений\n",
    "- Random forest - нет изменений\n",
    "- Gradient boosting - нет изменений\n",
    "\n",
    "Это подтверждает выводы, сделанные в предыдущем пункте"
   ]
  },
  {
   "cell_type": "markdown",
   "metadata": {},
   "source": [
    "**Задание 7 (1.25 балла)** Теперь сделайте перебор нескольких гиперпараметров по сетке и найдите оптимальные комбинации (лучшее среднее значение качества) для каждого алгоритма в данном случае: \n",
    " - KNN — число соседей (*n_neighbors*) и метрика (*metric*)\n",
    " - DecisonTree — глубина дерева (*max_depth*) и критерий разбиения (*criterion*)\n",
    " - RandomForest — критерий разбиения в деревьях (*criterion*) и *max_features* (при фиксированном количестве деревьев, найденном ранее)\n",
    " - GradientBoosting — критерий разбиения в деревьях (*criterion*) и *max_features* (при фиксированном количестве деревьев, найденном ранее)\n",
    " - SGDClassifier — оптимизируемая функция (*loss*) и *penalty*\n",
    " \n",
    "Обратите внимание, что эта операция может быть ресурсо- и трудоемкой. Как оптимизировать подбор параметров по сетке сказано в разделе \"Подбор гиперпараметров модели\""
   ]
  },
  {
   "cell_type": "code",
   "execution_count": null,
   "metadata": {
    "collapsed": true
   },
   "outputs": [],
   "source": [
    "#your code here"
   ]
  },
  {
   "cell_type": "code",
   "execution_count": 158,
   "metadata": {},
   "outputs": [
    {
     "name": "stdout",
     "output_type": "stream",
     "text": [
      "KNN\n",
      "best parameters: {'metric': 'manhattan', 'n_neighbors': 49}\n",
      "best score: 0.8328625702906587\n"
     ]
    }
   ],
   "source": [
    "#KNN\n",
    "\n",
    "knn = KNeighborsClassifier()\n",
    "params = {'n_neighbors': np.arange(1,50), 'metric':['euclidean', 'manhattan', 'chebyshev']}\n",
    "\n",
    "grid = GridSearchCV(knn, params, scoring='roc_auc')\n",
    "grid.n_splits_=5\n",
    "grid.fit(Xtrain, ytrain)\n",
    "\n",
    "print('KNN')\n",
    "print('best parameters:', grid.best_params_)\n",
    "print('best score:', grid.best_score_)"
   ]
  },
  {
   "cell_type": "code",
   "execution_count": 159,
   "metadata": {},
   "outputs": [
    {
     "name": "stdout",
     "output_type": "stream",
     "text": [
      "Decision tree\n",
      "best parameters: {'criterion': 'entropy', 'max_depth': 8}\n",
      "best score: 0.8451309219178953\n"
     ]
    }
   ],
   "source": [
    "# DecisionTree\n",
    "\n",
    "tree = DecisionTreeClassifier()\n",
    "params = {'max_depth': np.arange(1,50), 'criterion':[\"gini\", \"entropy\"]}\n",
    "\n",
    "grid = GridSearchCV(tree, params, scoring='roc_auc')\n",
    "grid.n_splits_=5\n",
    "grid.fit(Xtrain, ytrain)\n",
    "\n",
    "print('Decision tree')\n",
    "print('best parameters:', grid.best_params_)\n",
    "print('best score:', grid.best_score_)"
   ]
  },
  {
   "cell_type": "code",
   "execution_count": 160,
   "metadata": {},
   "outputs": [
    {
     "name": "stdout",
     "output_type": "stream",
     "text": [
      "SGD\n",
      "best parameters: {'loss': 'log', 'penalty': 'l1'}\n",
      "best score: 0.8289538466578554\n"
     ]
    }
   ],
   "source": [
    "# SGD Linear Classifier\n",
    "\n",
    "sgd = SGDClassifier(max_iter=1000)\n",
    "sgd_params = {'loss': ['hinge', 'log', 'modified_huber',\n",
    "                       'squared_hinge', 'perceptron', 'huber',\n",
    "                       'epsilon_insensitive', 'squared_epsilon_insensitive'],'penalty': ['l2', 'l1', 'elasticnet']}\n",
    "\n",
    "grid = GridSearchCV(sgd, sgd_params, scoring='roc_auc')\n",
    "grid.n_splits_=5\n",
    "grid.fit(Xtrain, ytrain)\n",
    "\n",
    "print('SGD')\n",
    "print('best parameters:', grid.best_params_)\n",
    "print('best score:', grid.best_score_)"
   ]
  },
  {
   "cell_type": "code",
   "execution_count": 162,
   "metadata": {},
   "outputs": [
    {
     "name": "stdout",
     "output_type": "stream",
     "text": [
      "Random Forest\n",
      "best parameters: {'criterion': 'entropy', 'max_features': 'log2'}\n",
      "best score: 0.8251934321529216\n"
     ]
    }
   ],
   "source": [
    "# Random Forest\n",
    "\n",
    "# Обучим один лес с максимальным интересным количеством деревьев\n",
    "rf = RandomForestClassifier(n_estimators=150)\n",
    "rf_params = {\"max_features\": ['auto', 'sqrt', 'log2'], 'criterion':[\"gini\", \"entropy\"]}\n",
    "grid = GridSearchCV(rf, rf_params, scoring = 'roc_auc')\n",
    "grid.fit(X_real, y)\n",
    "\n",
    "rf_mean_test = grid.cv_results_[\"mean_test_score\"]\n",
    "\n",
    "print('Random Forest')\n",
    "print('best parameters:', grid.best_params_)\n",
    "print('best score:', grid.best_score_)"
   ]
  },
  {
   "cell_type": "code",
   "execution_count": 166,
   "metadata": {},
   "outputs": [
    {
     "name": "stdout",
     "output_type": "stream",
     "text": [
      "Gradient Boosting\n",
      "best parameters: {'criterion': 'mse', 'max_features': 'auto'}\n",
      "best score: 0.8329238329238329\n"
     ]
    }
   ],
   "source": [
    "# Gradient Boosting\n",
    "\n",
    "# Задачу 4 я не очень понял из-за формулировки, поэтому здесь буду использовать 50 (просто рандомно выбрал)\n",
    "gb = GradientBoostingClassifier(n_estimators=50)\n",
    "gb_params = {\"max_features\": ['auto', 'sqrt', 'log2'], 'criterion': ['friedman_mse', 'squared_error', 'mse', 'mae']}\n",
    "grid = GridSearchCV(gb, gb_params)\n",
    "grid.fit(X_real, y)\n",
    "grid.n_splits_=5\n",
    "\n",
    "gb_mean_test = grid.cv_results_[\"mean_test_score\"]\n",
    "\n",
    "print('Gradient Boosting')\n",
    "print('best parameters:', grid.best_params_)\n",
    "print('best score:', grid.best_score_)"
   ]
  },
  {
   "cell_type": "markdown",
   "metadata": {},
   "source": [
    "Какой из алгоритмов имеет наилучшее качество? \n",
    "\n",
    "**Выводы:** Алгоритм решающее дерево с гиперпараметрами 'criterion': 'entropy', 'max_depth': 8 дал нам наилучшее качество best score = 0.8451"
   ]
  },
  {
   "cell_type": "markdown",
   "metadata": {},
   "source": [
    "**Задание 8 (0.5 балла)** Сравните алгоритмы с точки зрения времени обучения. Обучение какого из алгоритмов работает дольше всего и, как вы думаете, почему?"
   ]
  },
  {
   "cell_type": "code",
   "execution_count": 184,
   "metadata": {},
   "outputs": [
    {
     "name": "stdout",
     "output_type": "stream",
     "text": [
      "KNN: --- 0.058281898498535156 seconds ---\n",
      "SGD: --- 0.025089025497436523 seconds ---\n",
      "Decision Tree: --- 0.02643108367919922 seconds ---\n",
      "Random Forest: --- 1.374450922012329 seconds ---\n",
      "Gradient Boosting: --- 0.4866659641265869 seconds ---\n"
     ]
    }
   ],
   "source": [
    "# Способ измерения времени работы алгоритма взял со stackoverflow: https://stackoverflow.com/questions/1557571/how-do-i-get-time-of-a-python-programs-execution\n",
    "import time\n",
    "\n",
    "\n",
    "# KNN\n",
    "start_time = time.time()\n",
    "\n",
    "knn = KNeighborsClassifier(metric='manhattan', n_neighbors=49)\n",
    "knn.fit(X_real_new, y)\n",
    "\n",
    "print(\"KNN:\", \"--- %s seconds ---\" % (time.time() - start_time))\n",
    "\n",
    "\n",
    "\n",
    "# SGD\n",
    "start_time = time.time()\n",
    "\n",
    "sgd = SGDClassifier(penalty = 'l1', loss='log')\n",
    "sgd.fit(X_real_new, y)\n",
    "\n",
    "print(\"SGD:\", \"--- %s seconds ---\" % (time.time() - start_time))\n",
    "\n",
    "\n",
    "\n",
    "# Decision Tree\n",
    "start_time = time.time()\n",
    "\n",
    "tree = DecisionTreeClassifier(criterion='entropy', max_depth=8)\n",
    "tree.fit(X_real_new, y)\n",
    "\n",
    "print(\"Decision Tree:\", \"--- %s seconds ---\" % (time.time() - start_time))\n",
    "\n",
    "\n",
    "\n",
    "# Random Forest\n",
    "start_time = time.time()\n",
    "\n",
    "rf = RandomForestClassifier(criterion='entropy', max_depth=12, n_estimators = 150)\n",
    "rf.fit(X_real_new, y)\n",
    "\n",
    "print(\"Random Forest:\", \"--- %s seconds ---\" % (time.time() - start_time))\n",
    "\n",
    "\n",
    "\n",
    "# Gradient Boosting\n",
    "start_time = time.time()\n",
    "\n",
    "gb = GradientBoostingClassifier(n_estimators=50, criterion='mse', max_features='auto')\n",
    "gb.fit(X_real_new, y)\n",
    "\n",
    "print(\"Gradient Boosting:\", \"--- %s seconds ---\" % (time.time() - start_time))"
   ]
  },
  {
   "cell_type": "markdown",
   "metadata": {},
   "source": [
    "**Выводы:** Дольше всего обучается случайный лес, это ожидаемо, ведь случайный лес состоит из нескольких деревьев (классификаторов). Градиентный бустинг тоже обучает несколько классификаторов, но работает немного быстрее, хотя все равно существенно дольше, чем единичные классификаторы (KNN, SGD, Decision Tree)"
   ]
  },
  {
   "cell_type": "markdown",
   "metadata": {},
   "source": [
    "## Добавление категориальных признаков в модели\n",
    "\n",
    "Пока мы не использовали нечисловые признаки, которые есть в датасете. Давайте посмотрим, правильно ли мы сделали и увеличится ли качество моделей после добавлениях этих признаков. \n",
    "\n",
    "**Задание 9 (0.5 балла)** Преобразуйте все категориальные признаки с помощью метода one-hot-encoding (например, это можно сделать с помощью функции [OneHotEncoder](https://scikit-learn.org/stable/modules/generated/sklearn.preprocessing.OneHotEncoder.html), [pandas.get_dummies](http://pandas.pydata.org/pandas-docs/stable/generated/pandas.get_dummies.html) или [DictVectorizer](http://scikit-learn.org/stable/modules/generated/sklearn.feature_extraction.DictVectorizer.html) из sklearn)."
   ]
  },
  {
   "cell_type": "code",
   "execution_count": 180,
   "metadata": {},
   "outputs": [
    {
     "data": {
      "text/html": [
       "<div>\n",
       "<style scoped>\n",
       "    .dataframe tbody tr th:only-of-type {\n",
       "        vertical-align: middle;\n",
       "    }\n",
       "\n",
       "    .dataframe tbody tr th {\n",
       "        vertical-align: top;\n",
       "    }\n",
       "\n",
       "    .dataframe thead th {\n",
       "        text-align: right;\n",
       "    }\n",
       "</style>\n",
       "<table border=\"1\" class=\"dataframe\">\n",
       "  <thead>\n",
       "    <tr style=\"text-align: right;\">\n",
       "      <th></th>\n",
       "      <th>age</th>\n",
       "      <th>fnlwgt</th>\n",
       "      <th>education-num</th>\n",
       "      <th>capital-gain</th>\n",
       "      <th>capital-loss</th>\n",
       "      <th>hours-per-week</th>\n",
       "      <th>workclass_?</th>\n",
       "      <th>workclass_Federal-gov</th>\n",
       "      <th>workclass_Local-gov</th>\n",
       "      <th>workclass_Never-worked</th>\n",
       "      <th>...</th>\n",
       "      <th>relationship_Own-child</th>\n",
       "      <th>relationship_Unmarried</th>\n",
       "      <th>relationship_Wife</th>\n",
       "      <th>race_Amer-Indian-Eskimo</th>\n",
       "      <th>race_Asian-Pac-Islander</th>\n",
       "      <th>race_Black</th>\n",
       "      <th>race_Other</th>\n",
       "      <th>race_White</th>\n",
       "      <th>sex_Female</th>\n",
       "      <th>sex_Male</th>\n",
       "    </tr>\n",
       "  </thead>\n",
       "  <tbody>\n",
       "    <tr>\n",
       "      <th>0</th>\n",
       "      <td>34</td>\n",
       "      <td>284843</td>\n",
       "      <td>9</td>\n",
       "      <td>594</td>\n",
       "      <td>0</td>\n",
       "      <td>60</td>\n",
       "      <td>0</td>\n",
       "      <td>0</td>\n",
       "      <td>1</td>\n",
       "      <td>0</td>\n",
       "      <td>...</td>\n",
       "      <td>0</td>\n",
       "      <td>0</td>\n",
       "      <td>0</td>\n",
       "      <td>0</td>\n",
       "      <td>0</td>\n",
       "      <td>1</td>\n",
       "      <td>0</td>\n",
       "      <td>0</td>\n",
       "      <td>0</td>\n",
       "      <td>1</td>\n",
       "    </tr>\n",
       "    <tr>\n",
       "      <th>1</th>\n",
       "      <td>40</td>\n",
       "      <td>190290</td>\n",
       "      <td>10</td>\n",
       "      <td>0</td>\n",
       "      <td>0</td>\n",
       "      <td>40</td>\n",
       "      <td>0</td>\n",
       "      <td>0</td>\n",
       "      <td>0</td>\n",
       "      <td>0</td>\n",
       "      <td>...</td>\n",
       "      <td>0</td>\n",
       "      <td>0</td>\n",
       "      <td>0</td>\n",
       "      <td>0</td>\n",
       "      <td>0</td>\n",
       "      <td>0</td>\n",
       "      <td>0</td>\n",
       "      <td>1</td>\n",
       "      <td>0</td>\n",
       "      <td>1</td>\n",
       "    </tr>\n",
       "    <tr>\n",
       "      <th>2</th>\n",
       "      <td>36</td>\n",
       "      <td>177858</td>\n",
       "      <td>13</td>\n",
       "      <td>0</td>\n",
       "      <td>0</td>\n",
       "      <td>40</td>\n",
       "      <td>0</td>\n",
       "      <td>0</td>\n",
       "      <td>1</td>\n",
       "      <td>0</td>\n",
       "      <td>...</td>\n",
       "      <td>1</td>\n",
       "      <td>0</td>\n",
       "      <td>0</td>\n",
       "      <td>0</td>\n",
       "      <td>0</td>\n",
       "      <td>0</td>\n",
       "      <td>0</td>\n",
       "      <td>1</td>\n",
       "      <td>0</td>\n",
       "      <td>1</td>\n",
       "    </tr>\n",
       "    <tr>\n",
       "      <th>3</th>\n",
       "      <td>22</td>\n",
       "      <td>184756</td>\n",
       "      <td>10</td>\n",
       "      <td>0</td>\n",
       "      <td>0</td>\n",
       "      <td>30</td>\n",
       "      <td>0</td>\n",
       "      <td>0</td>\n",
       "      <td>0</td>\n",
       "      <td>0</td>\n",
       "      <td>...</td>\n",
       "      <td>1</td>\n",
       "      <td>0</td>\n",
       "      <td>0</td>\n",
       "      <td>0</td>\n",
       "      <td>0</td>\n",
       "      <td>0</td>\n",
       "      <td>0</td>\n",
       "      <td>1</td>\n",
       "      <td>1</td>\n",
       "      <td>0</td>\n",
       "    </tr>\n",
       "    <tr>\n",
       "      <th>4</th>\n",
       "      <td>47</td>\n",
       "      <td>149700</td>\n",
       "      <td>13</td>\n",
       "      <td>15024</td>\n",
       "      <td>0</td>\n",
       "      <td>40</td>\n",
       "      <td>0</td>\n",
       "      <td>0</td>\n",
       "      <td>0</td>\n",
       "      <td>0</td>\n",
       "      <td>...</td>\n",
       "      <td>0</td>\n",
       "      <td>0</td>\n",
       "      <td>0</td>\n",
       "      <td>0</td>\n",
       "      <td>0</td>\n",
       "      <td>0</td>\n",
       "      <td>0</td>\n",
       "      <td>1</td>\n",
       "      <td>0</td>\n",
       "      <td>1</td>\n",
       "    </tr>\n",
       "  </tbody>\n",
       "</table>\n",
       "<p>5 rows × 66 columns</p>\n",
       "</div>"
      ],
      "text/plain": [
       "   age  fnlwgt  education-num  capital-gain  capital-loss  hours-per-week  \\\n",
       "0   34  284843              9           594             0              60   \n",
       "1   40  190290             10             0             0              40   \n",
       "2   36  177858             13             0             0              40   \n",
       "3   22  184756             10             0             0              30   \n",
       "4   47  149700             13         15024             0              40   \n",
       "\n",
       "   workclass_?  workclass_Federal-gov  workclass_Local-gov  \\\n",
       "0            0                      0                    1   \n",
       "1            0                      0                    0   \n",
       "2            0                      0                    1   \n",
       "3            0                      0                    0   \n",
       "4            0                      0                    0   \n",
       "\n",
       "   workclass_Never-worked  ...  relationship_Own-child  \\\n",
       "0                       0  ...                       0   \n",
       "1                       0  ...                       0   \n",
       "2                       0  ...                       1   \n",
       "3                       0  ...                       1   \n",
       "4                       0  ...                       0   \n",
       "\n",
       "   relationship_Unmarried  relationship_Wife  race_Amer-Indian-Eskimo  \\\n",
       "0                       0                  0                        0   \n",
       "1                       0                  0                        0   \n",
       "2                       0                  0                        0   \n",
       "3                       0                  0                        0   \n",
       "4                       0                  0                        0   \n",
       "\n",
       "   race_Asian-Pac-Islander  race_Black  race_Other  race_White  sex_Female  \\\n",
       "0                        0           1           0           0           0   \n",
       "1                        0           0           0           1           0   \n",
       "2                        0           0           0           1           0   \n",
       "3                        0           0           0           1           1   \n",
       "4                        0           0           0           1           0   \n",
       "\n",
       "   sex_Male  \n",
       "0         1  \n",
       "1         1  \n",
       "2         1  \n",
       "3         0  \n",
       "4         1  \n",
       "\n",
       "[5 rows x 66 columns]"
      ]
     },
     "execution_count": 180,
     "metadata": {},
     "output_type": "execute_result"
    }
   ],
   "source": [
    "# Все предикторы, включая категориальные, хранятся в переменной X\n",
    "# Давайте применим к ней функцию pandas.get_dummies\n",
    "X_all_new = pd.get_dummies(X)\n",
    "X_all_new.head(5)"
   ]
  },
  {
   "cell_type": "code",
   "execution_count": 182,
   "metadata": {},
   "outputs": [
    {
     "data": {
      "text/plain": [
       "array(['age', 'fnlwgt', 'education-num', 'capital-gain', 'capital-loss',\n",
       "       'hours-per-week'], dtype=object)"
      ]
     },
     "execution_count": 182,
     "metadata": {},
     "output_type": "execute_result"
    }
   ],
   "source": [
    "X_real.columns.values"
   ]
  },
  {
   "cell_type": "markdown",
   "metadata": {},
   "source": [
    "**Задание 10 (0.5 балла)** Добавьте к масштабированным вещественным признакам закодированные категориальные и обучите алгоритмы с наилучшими гиперпараметрами из предыдущего пункта. Дало ли добавление новых признаков прирост качества? Измеряйте качество как и раньше используя 5-Fold CV. Для этого удобно воспользоваться функцией [cross_val_score](https://scikit-learn.org/stable/modules/generated/sklearn.model_selection.cross_val_score.html)."
   ]
  },
  {
   "cell_type": "code",
   "execution_count": 183,
   "metadata": {},
   "outputs": [
    {
     "data": {
      "text/html": [
       "<div>\n",
       "<style scoped>\n",
       "    .dataframe tbody tr th:only-of-type {\n",
       "        vertical-align: middle;\n",
       "    }\n",
       "\n",
       "    .dataframe tbody tr th {\n",
       "        vertical-align: top;\n",
       "    }\n",
       "\n",
       "    .dataframe thead th {\n",
       "        text-align: right;\n",
       "    }\n",
       "</style>\n",
       "<table border=\"1\" class=\"dataframe\">\n",
       "  <thead>\n",
       "    <tr style=\"text-align: right;\">\n",
       "      <th></th>\n",
       "      <th>age</th>\n",
       "      <th>fnlwgt</th>\n",
       "      <th>education-num</th>\n",
       "      <th>capital-gain</th>\n",
       "      <th>capital-loss</th>\n",
       "      <th>hours-per-week</th>\n",
       "      <th>workclass_?</th>\n",
       "      <th>workclass_Federal-gov</th>\n",
       "      <th>workclass_Local-gov</th>\n",
       "      <th>workclass_Never-worked</th>\n",
       "      <th>...</th>\n",
       "      <th>relationship_Own-child</th>\n",
       "      <th>relationship_Unmarried</th>\n",
       "      <th>relationship_Wife</th>\n",
       "      <th>race_Amer-Indian-Eskimo</th>\n",
       "      <th>race_Asian-Pac-Islander</th>\n",
       "      <th>race_Black</th>\n",
       "      <th>race_Other</th>\n",
       "      <th>race_White</th>\n",
       "      <th>sex_Female</th>\n",
       "      <th>sex_Male</th>\n",
       "    </tr>\n",
       "  </thead>\n",
       "  <tbody>\n",
       "    <tr>\n",
       "      <th>0</th>\n",
       "      <td>0.232877</td>\n",
       "      <td>0.181207</td>\n",
       "      <td>0.533333</td>\n",
       "      <td>0.005940</td>\n",
       "      <td>0.0</td>\n",
       "      <td>0.602041</td>\n",
       "      <td>0</td>\n",
       "      <td>0</td>\n",
       "      <td>1</td>\n",
       "      <td>0</td>\n",
       "      <td>...</td>\n",
       "      <td>0</td>\n",
       "      <td>0</td>\n",
       "      <td>0</td>\n",
       "      <td>0</td>\n",
       "      <td>0</td>\n",
       "      <td>1</td>\n",
       "      <td>0</td>\n",
       "      <td>0</td>\n",
       "      <td>0</td>\n",
       "      <td>1</td>\n",
       "    </tr>\n",
       "    <tr>\n",
       "      <th>1</th>\n",
       "      <td>0.315068</td>\n",
       "      <td>0.116683</td>\n",
       "      <td>0.600000</td>\n",
       "      <td>0.000000</td>\n",
       "      <td>0.0</td>\n",
       "      <td>0.397959</td>\n",
       "      <td>0</td>\n",
       "      <td>0</td>\n",
       "      <td>0</td>\n",
       "      <td>0</td>\n",
       "      <td>...</td>\n",
       "      <td>0</td>\n",
       "      <td>0</td>\n",
       "      <td>0</td>\n",
       "      <td>0</td>\n",
       "      <td>0</td>\n",
       "      <td>0</td>\n",
       "      <td>0</td>\n",
       "      <td>1</td>\n",
       "      <td>0</td>\n",
       "      <td>1</td>\n",
       "    </tr>\n",
       "    <tr>\n",
       "      <th>2</th>\n",
       "      <td>0.260274</td>\n",
       "      <td>0.108200</td>\n",
       "      <td>0.800000</td>\n",
       "      <td>0.000000</td>\n",
       "      <td>0.0</td>\n",
       "      <td>0.397959</td>\n",
       "      <td>0</td>\n",
       "      <td>0</td>\n",
       "      <td>1</td>\n",
       "      <td>0</td>\n",
       "      <td>...</td>\n",
       "      <td>1</td>\n",
       "      <td>0</td>\n",
       "      <td>0</td>\n",
       "      <td>0</td>\n",
       "      <td>0</td>\n",
       "      <td>0</td>\n",
       "      <td>0</td>\n",
       "      <td>1</td>\n",
       "      <td>0</td>\n",
       "      <td>1</td>\n",
       "    </tr>\n",
       "    <tr>\n",
       "      <th>3</th>\n",
       "      <td>0.068493</td>\n",
       "      <td>0.112907</td>\n",
       "      <td>0.600000</td>\n",
       "      <td>0.000000</td>\n",
       "      <td>0.0</td>\n",
       "      <td>0.295918</td>\n",
       "      <td>0</td>\n",
       "      <td>0</td>\n",
       "      <td>0</td>\n",
       "      <td>0</td>\n",
       "      <td>...</td>\n",
       "      <td>1</td>\n",
       "      <td>0</td>\n",
       "      <td>0</td>\n",
       "      <td>0</td>\n",
       "      <td>0</td>\n",
       "      <td>0</td>\n",
       "      <td>0</td>\n",
       "      <td>1</td>\n",
       "      <td>1</td>\n",
       "      <td>0</td>\n",
       "    </tr>\n",
       "    <tr>\n",
       "      <th>4</th>\n",
       "      <td>0.410959</td>\n",
       "      <td>0.088984</td>\n",
       "      <td>0.800000</td>\n",
       "      <td>0.150242</td>\n",
       "      <td>0.0</td>\n",
       "      <td>0.397959</td>\n",
       "      <td>0</td>\n",
       "      <td>0</td>\n",
       "      <td>0</td>\n",
       "      <td>0</td>\n",
       "      <td>...</td>\n",
       "      <td>0</td>\n",
       "      <td>0</td>\n",
       "      <td>0</td>\n",
       "      <td>0</td>\n",
       "      <td>0</td>\n",
       "      <td>0</td>\n",
       "      <td>0</td>\n",
       "      <td>1</td>\n",
       "      <td>0</td>\n",
       "      <td>1</td>\n",
       "    </tr>\n",
       "  </tbody>\n",
       "</table>\n",
       "<p>5 rows × 66 columns</p>\n",
       "</div>"
      ],
      "text/plain": [
       "        age    fnlwgt  education-num  capital-gain  capital-loss  \\\n",
       "0  0.232877  0.181207       0.533333      0.005940           0.0   \n",
       "1  0.315068  0.116683       0.600000      0.000000           0.0   \n",
       "2  0.260274  0.108200       0.800000      0.000000           0.0   \n",
       "3  0.068493  0.112907       0.600000      0.000000           0.0   \n",
       "4  0.410959  0.088984       0.800000      0.150242           0.0   \n",
       "\n",
       "   hours-per-week  workclass_?  workclass_Federal-gov  workclass_Local-gov  \\\n",
       "0        0.602041            0                      0                    1   \n",
       "1        0.397959            0                      0                    0   \n",
       "2        0.397959            0                      0                    1   \n",
       "3        0.295918            0                      0                    0   \n",
       "4        0.397959            0                      0                    0   \n",
       "\n",
       "   workclass_Never-worked  ...  relationship_Own-child  \\\n",
       "0                       0  ...                       0   \n",
       "1                       0  ...                       0   \n",
       "2                       0  ...                       1   \n",
       "3                       0  ...                       1   \n",
       "4                       0  ...                       0   \n",
       "\n",
       "   relationship_Unmarried  relationship_Wife  race_Amer-Indian-Eskimo  \\\n",
       "0                       0                  0                        0   \n",
       "1                       0                  0                        0   \n",
       "2                       0                  0                        0   \n",
       "3                       0                  0                        0   \n",
       "4                       0                  0                        0   \n",
       "\n",
       "   race_Asian-Pac-Islander  race_Black  race_Other  race_White  sex_Female  \\\n",
       "0                        0           1           0           0           0   \n",
       "1                        0           0           0           1           0   \n",
       "2                        0           0           0           1           0   \n",
       "3                        0           0           0           1           1   \n",
       "4                        0           0           0           1           0   \n",
       "\n",
       "   sex_Male  \n",
       "0         1  \n",
       "1         1  \n",
       "2         1  \n",
       "3         0  \n",
       "4         1  \n",
       "\n",
       "[5 rows x 66 columns]"
      ]
     },
     "execution_count": 183,
     "metadata": {},
     "output_type": "execute_result"
    }
   ],
   "source": [
    "# Масштабируем все вещественные признаки\n",
    "scaler = MinMaxScaler()\n",
    "old_cols = X_all_new.columns.values\n",
    "cols = ['age', 'fnlwgt', 'education-num', 'capital-gain', 'capital-loss',\n",
    "       'hours-per-week']\n",
    "X_all_new[cols] = pd.DataFrame(scaler.fit_transform(X_all_new[cols]))\n",
    "X_all_new.columns = old_cols\n",
    "X_all_new.head(5)"
   ]
  },
  {
   "cell_type": "code",
   "execution_count": 185,
   "metadata": {},
   "outputs": [],
   "source": [
    "# Возьмем все классификаторы из предыдущего пункта\n",
    "knn = KNeighborsClassifier(metric='manhattan', n_neighbors=49)\n",
    "sgd = SGDClassifier(penalty = 'l1', loss='log')\n",
    "tree = DecisionTreeClassifier(criterion='entropy', max_depth=8)\n",
    "rf = RandomForestClassifier(criterion='entropy', max_features='auto', n_estimators = 150)\n",
    "gb = GradientBoostingClassifier(n_estimators=50, criterion='mse', max_features='auto')"
   ]
  },
  {
   "cell_type": "code",
   "execution_count": 192,
   "metadata": {},
   "outputs": [
    {
     "name": "stdout",
     "output_type": "stream",
     "text": [
      "KNN with categorical variables: 0.881856561233404\n",
      "SGD with categorical variables: 0.9048797165442053\n",
      "Decision Tree with categorical variables: 0.8941099984185653\n",
      "Random Forest with categorical variables: 0.9028482310149697\n",
      "Gradient Boosting with categorical variables: 0.9149283857436223\n"
     ]
    }
   ],
   "source": [
    "# С категориальными переменными\n",
    "from sklearn.model_selection import cross_val_score\n",
    "print(\"KNN with categorical variables:\", cross_val_score(knn, X_all_new, y, scoring='roc_auc').mean())\n",
    "print(\"SGD with categorical variables:\", cross_val_score(sgd, X_all_new, y, scoring='roc_auc').mean())\n",
    "print(\"Decision Tree with categorical variables:\", cross_val_score(tree, X_all_new, y, scoring='roc_auc').mean())\n",
    "print(\"Random Forest with categorical variables:\", cross_val_score(rf, X_all_new, y, scoring='roc_auc').mean())\n",
    "print(\"Gradient Boosting with categorical variables:\", cross_val_score(gb, X_all_new, y, scoring='roc_auc').mean())"
   ]
  },
  {
   "cell_type": "code",
   "execution_count": 191,
   "metadata": {},
   "outputs": [
    {
     "name": "stdout",
     "output_type": "stream",
     "text": [
      "KNN without categorical variables: 0.621544922541589\n",
      "SGD without categorical variables: 0.6217257178623872\n",
      "Decision Tree without categorical variables: 0.8447551956649315\n",
      "Random Forest without categorical variables: 0.8238486791953207\n",
      "Gradient Boosting without categorical variables: 0.862010363267388\n"
     ]
    }
   ],
   "source": [
    "# Без категориальных переменных\n",
    "print(\"KNN without categorical variables:\", cross_val_score(knn, X_real, y, scoring='roc_auc').mean())\n",
    "print(\"SGD without categorical variables:\", cross_val_score(sgd, X_real, y, scoring='roc_auc').mean())\n",
    "print(\"Decision Tree without categorical variables:\", cross_val_score(tree, X_real, y, scoring='roc_auc').mean())\n",
    "print(\"Random Forest without categorical variables:\", cross_val_score(rf, X_real, y, scoring='roc_auc').mean())\n",
    "print(\"Gradient Boosting without categorical variables:\", cross_val_score(gb, X_real, y, scoring='roc_auc').mean())"
   ]
  },
  {
   "cell_type": "markdown",
   "metadata": {},
   "source": [
    "Отличается ли теперь наилучший классификатор от наилучшего в предыдущем пункте?"
   ]
  },
  {
   "cell_type": "markdown",
   "metadata": {},
   "source": [
    "**Выводы:** добавление категориальных переменных дало существенный прирост качества для всех алгоритмов\n",
    "\n",
    "Да, теперь лучший алгоритм отличается от предыдущего пункта - здесь это градиентный бустинг"
   ]
  },
  {
   "cell_type": "markdown",
   "metadata": {},
   "source": [
    "## Поиск новых полезных признаков\n",
    "\n",
    "**Задание 11 (1.25 балла).** Попробуем улучшить качество модели, добавив в неё новые информативные признаки. Поступим так же, как действовали на [семинаре](https://github.com/Murcha1990/ML_Econom_2021-2022/blob/main/Семинары/Семинар%207/Seminar7.ipynb):\n",
    "* добавьте к модели полиномиальных признаков степени 2 (для создания полиномиальных признаков используйте только исходные числовые признаки)\n",
    "* затем снизьте размерность с помощью:\n",
    "a) фильтрационных методов\n",
    "b) жадного отбора признаков (RFE)\n",
    "с) встроенного в модель метода отбора признаков.\n",
    "\n",
    "Для каждого пункта выше выберите один метод и подберите для него оптимальные гиперпараметры, а также количество финальных признаков (по кросс-валидации).\n",
    "\n",
    "* Затем можно добавить к модели закодированные в предыдущем пункте категориальные признаки.\n",
    "\n",
    "Позволил ли этот подход улучшить качество моделей? "
   ]
  },
  {
   "cell_type": "code",
   "execution_count": 194,
   "metadata": {},
   "outputs": [
    {
     "data": {
      "text/html": [
       "<div>\n",
       "<style scoped>\n",
       "    .dataframe tbody tr th:only-of-type {\n",
       "        vertical-align: middle;\n",
       "    }\n",
       "\n",
       "    .dataframe tbody tr th {\n",
       "        vertical-align: top;\n",
       "    }\n",
       "\n",
       "    .dataframe thead th {\n",
       "        text-align: right;\n",
       "    }\n",
       "</style>\n",
       "<table border=\"1\" class=\"dataframe\">\n",
       "  <thead>\n",
       "    <tr style=\"text-align: right;\">\n",
       "      <th></th>\n",
       "      <th>age</th>\n",
       "      <th>fnlwgt</th>\n",
       "      <th>education-num</th>\n",
       "      <th>capital-gain</th>\n",
       "      <th>capital-loss</th>\n",
       "      <th>hours-per-week</th>\n",
       "      <th>workclass_?</th>\n",
       "      <th>workclass_Federal-gov</th>\n",
       "      <th>workclass_Local-gov</th>\n",
       "      <th>workclass_Never-worked</th>\n",
       "      <th>...</th>\n",
       "      <th>race_Other</th>\n",
       "      <th>race_White</th>\n",
       "      <th>sex_Female</th>\n",
       "      <th>sex_Male</th>\n",
       "      <th>age^2</th>\n",
       "      <th>fnlwgt^2</th>\n",
       "      <th>education-num^2</th>\n",
       "      <th>capital-gain^2</th>\n",
       "      <th>capital-loss^2</th>\n",
       "      <th>hours-per-week^2</th>\n",
       "    </tr>\n",
       "  </thead>\n",
       "  <tbody>\n",
       "    <tr>\n",
       "      <th>0</th>\n",
       "      <td>0.232877</td>\n",
       "      <td>0.181207</td>\n",
       "      <td>0.533333</td>\n",
       "      <td>0.005940</td>\n",
       "      <td>0.0</td>\n",
       "      <td>0.602041</td>\n",
       "      <td>0</td>\n",
       "      <td>0</td>\n",
       "      <td>1</td>\n",
       "      <td>0</td>\n",
       "      <td>...</td>\n",
       "      <td>0</td>\n",
       "      <td>0</td>\n",
       "      <td>0</td>\n",
       "      <td>1</td>\n",
       "      <td>0.054232</td>\n",
       "      <td>0.032836</td>\n",
       "      <td>0.284444</td>\n",
       "      <td>0.000035</td>\n",
       "      <td>0.0</td>\n",
       "      <td>0.362453</td>\n",
       "    </tr>\n",
       "    <tr>\n",
       "      <th>1</th>\n",
       "      <td>0.315068</td>\n",
       "      <td>0.116683</td>\n",
       "      <td>0.600000</td>\n",
       "      <td>0.000000</td>\n",
       "      <td>0.0</td>\n",
       "      <td>0.397959</td>\n",
       "      <td>0</td>\n",
       "      <td>0</td>\n",
       "      <td>0</td>\n",
       "      <td>0</td>\n",
       "      <td>...</td>\n",
       "      <td>0</td>\n",
       "      <td>1</td>\n",
       "      <td>0</td>\n",
       "      <td>1</td>\n",
       "      <td>0.099268</td>\n",
       "      <td>0.013615</td>\n",
       "      <td>0.360000</td>\n",
       "      <td>0.000000</td>\n",
       "      <td>0.0</td>\n",
       "      <td>0.158372</td>\n",
       "    </tr>\n",
       "    <tr>\n",
       "      <th>2</th>\n",
       "      <td>0.260274</td>\n",
       "      <td>0.108200</td>\n",
       "      <td>0.800000</td>\n",
       "      <td>0.000000</td>\n",
       "      <td>0.0</td>\n",
       "      <td>0.397959</td>\n",
       "      <td>0</td>\n",
       "      <td>0</td>\n",
       "      <td>1</td>\n",
       "      <td>0</td>\n",
       "      <td>...</td>\n",
       "      <td>0</td>\n",
       "      <td>1</td>\n",
       "      <td>0</td>\n",
       "      <td>1</td>\n",
       "      <td>0.067743</td>\n",
       "      <td>0.011707</td>\n",
       "      <td>0.640000</td>\n",
       "      <td>0.000000</td>\n",
       "      <td>0.0</td>\n",
       "      <td>0.158372</td>\n",
       "    </tr>\n",
       "    <tr>\n",
       "      <th>3</th>\n",
       "      <td>0.068493</td>\n",
       "      <td>0.112907</td>\n",
       "      <td>0.600000</td>\n",
       "      <td>0.000000</td>\n",
       "      <td>0.0</td>\n",
       "      <td>0.295918</td>\n",
       "      <td>0</td>\n",
       "      <td>0</td>\n",
       "      <td>0</td>\n",
       "      <td>0</td>\n",
       "      <td>...</td>\n",
       "      <td>0</td>\n",
       "      <td>1</td>\n",
       "      <td>1</td>\n",
       "      <td>0</td>\n",
       "      <td>0.004691</td>\n",
       "      <td>0.012748</td>\n",
       "      <td>0.360000</td>\n",
       "      <td>0.000000</td>\n",
       "      <td>0.0</td>\n",
       "      <td>0.087568</td>\n",
       "    </tr>\n",
       "    <tr>\n",
       "      <th>4</th>\n",
       "      <td>0.410959</td>\n",
       "      <td>0.088984</td>\n",
       "      <td>0.800000</td>\n",
       "      <td>0.150242</td>\n",
       "      <td>0.0</td>\n",
       "      <td>0.397959</td>\n",
       "      <td>0</td>\n",
       "      <td>0</td>\n",
       "      <td>0</td>\n",
       "      <td>0</td>\n",
       "      <td>...</td>\n",
       "      <td>0</td>\n",
       "      <td>1</td>\n",
       "      <td>0</td>\n",
       "      <td>1</td>\n",
       "      <td>0.168887</td>\n",
       "      <td>0.007918</td>\n",
       "      <td>0.640000</td>\n",
       "      <td>0.022573</td>\n",
       "      <td>0.0</td>\n",
       "      <td>0.158372</td>\n",
       "    </tr>\n",
       "  </tbody>\n",
       "</table>\n",
       "<p>5 rows × 72 columns</p>\n",
       "</div>"
      ],
      "text/plain": [
       "        age    fnlwgt  education-num  capital-gain  capital-loss  \\\n",
       "0  0.232877  0.181207       0.533333      0.005940           0.0   \n",
       "1  0.315068  0.116683       0.600000      0.000000           0.0   \n",
       "2  0.260274  0.108200       0.800000      0.000000           0.0   \n",
       "3  0.068493  0.112907       0.600000      0.000000           0.0   \n",
       "4  0.410959  0.088984       0.800000      0.150242           0.0   \n",
       "\n",
       "   hours-per-week  workclass_?  workclass_Federal-gov  workclass_Local-gov  \\\n",
       "0        0.602041            0                      0                    1   \n",
       "1        0.397959            0                      0                    0   \n",
       "2        0.397959            0                      0                    1   \n",
       "3        0.295918            0                      0                    0   \n",
       "4        0.397959            0                      0                    0   \n",
       "\n",
       "   workclass_Never-worked  ...  race_Other  race_White  sex_Female  sex_Male  \\\n",
       "0                       0  ...           0           0           0         1   \n",
       "1                       0  ...           0           1           0         1   \n",
       "2                       0  ...           0           1           0         1   \n",
       "3                       0  ...           0           1           1         0   \n",
       "4                       0  ...           0           1           0         1   \n",
       "\n",
       "      age^2  fnlwgt^2  education-num^2  capital-gain^2  capital-loss^2  \\\n",
       "0  0.054232  0.032836         0.284444        0.000035             0.0   \n",
       "1  0.099268  0.013615         0.360000        0.000000             0.0   \n",
       "2  0.067743  0.011707         0.640000        0.000000             0.0   \n",
       "3  0.004691  0.012748         0.360000        0.000000             0.0   \n",
       "4  0.168887  0.007918         0.640000        0.022573             0.0   \n",
       "\n",
       "   hours-per-week^2  \n",
       "0          0.362453  \n",
       "1          0.158372  \n",
       "2          0.158372  \n",
       "3          0.087568  \n",
       "4          0.158372  \n",
       "\n",
       "[5 rows x 72 columns]"
      ]
     },
     "execution_count": 194,
     "metadata": {},
     "output_type": "execute_result"
    }
   ],
   "source": [
    "# Накинем полиномиальных признаков второй степени (только на исходные числовые признаки)\n",
    "import warnings\n",
    "warnings.filterwarnings('ignore')\n",
    "\n",
    "poly_vars = ['age', 'fnlwgt', 'education-num', 'capital-gain', 'capital-loss',\n",
    "       'hours-per-week']\n",
    "\n",
    "poly = PolynomialFeatures(degree=2)\n",
    "\n",
    "for var in poly_vars:\n",
    "    p = pd.DataFrame(poly.fit_transform(np.array(X_all_new[var]).reshape(-1, 1)))\n",
    "    p = p.iloc[:,-1]\n",
    "    X_all_new[var + '^2'] = p\n",
    "\n",
    "X_all_new.head(5)"
   ]
  },
  {
   "cell_type": "code",
   "execution_count": 209,
   "metadata": {},
   "outputs": [
    {
     "data": {
      "text/plain": [
       "array([6.77036536e-02, 1.78322153e-02, 6.80333693e-02, 7.74872665e-02,\n",
       "       3.57423709e-02, 3.55573573e-02, 2.89919418e-03, 1.18186267e-03,\n",
       "       0.00000000e+00, 0.00000000e+00, 4.60575927e-03, 5.33638609e-03,\n",
       "       0.00000000e+00, 0.00000000e+00, 0.00000000e+00, 4.62857932e-03,\n",
       "       5.03913152e-03, 0.00000000e+00, 0.00000000e+00, 4.60514186e-04,\n",
       "       0.00000000e+00, 6.92870177e-03, 3.50571575e-03, 0.00000000e+00,\n",
       "       7.77423228e-03, 3.98123927e-03, 1.03738634e-02, 1.68053990e-02,\n",
       "       2.31241676e-05, 9.94157039e-03, 0.00000000e+00, 9.71822635e-03,\n",
       "       0.00000000e+00, 1.13556001e-01, 1.83257999e-03, 5.81978871e-02,\n",
       "       6.54827434e-03, 0.00000000e+00, 1.97359409e-03, 4.85746412e-03,\n",
       "       9.87527751e-04, 0.00000000e+00, 1.98543193e-02, 9.98637777e-04,\n",
       "       3.82272177e-03, 1.04780448e-03, 2.11861804e-02, 5.52073516e-03,\n",
       "       1.39328829e-02, 3.79074080e-04, 0.00000000e+00, 3.38403408e-03,\n",
       "       3.03879449e-03, 8.10564679e-02, 1.82615617e-02, 1.41493549e-03,\n",
       "       4.09013424e-02, 1.69615905e-02, 3.32928927e-03, 0.00000000e+00,\n",
       "       0.00000000e+00, 7.31842968e-03, 3.78265900e-03, 7.25927576e-03,\n",
       "       2.87404429e-02, 3.37363936e-02, 6.85333589e-02, 1.75516240e-02,\n",
       "       5.85789053e-02, 7.96443773e-02, 3.61839811e-02, 4.36310614e-02])"
      ]
     },
     "execution_count": 209,
     "metadata": {},
     "output_type": "execute_result"
    }
   ],
   "source": [
    "# Фильтрационные методы\n",
    "from sklearn.feature_selection import mutual_info_classif\n",
    "\n",
    "res = mutual_info_classif(X_all_new, y)\n",
    "res"
   ]
  },
  {
   "cell_type": "markdown",
   "metadata": {},
   "source": [
    "**Почему сделал задание частично?**\n",
    "- Добавил полиномиальные признаки порядка 2, они добавлены в общий датасет с категориальными признаками (но полиномиальные накидывал только для числовых), но реализацию следующих шагов я не до конца осознал\n",
    "- Я понимаю, как отфильтровать k лучших признаков (sklearn.feature_selection.SelectKBest), но совсем не понимаю, как сделать кросс-валидацию одновременно для поиска оптимального k и поиска оптимальных гиперпараметров модели - это не дает мне решить подпункты про фильтрационные методы, жадные отбор и встроенный в алгоритм метод"
   ]
  },
  {
   "cell_type": "code",
   "execution_count": null,
   "metadata": {},
   "outputs": [],
   "source": [
    "# Жадный отбор RFE\n",
    "\n"
   ]
  },
  {
   "cell_type": "code",
   "execution_count": null,
   "metadata": {},
   "outputs": [],
   "source": [
    "# Встроенный в модель метод\n",
    "# Вероятно здесь стоит использовать L1 или L0 регуляризацию, которая зануляет коэффициенты некоторых предикторов\n"
   ]
  },
  {
   "cell_type": "markdown",
   "metadata": {},
   "source": [
    "## Смешивание моделей\n",
    "\n",
    "Во всех предыдущих пунктах мы получили много сильных моделей, которые могут быть достаточно разными по своей природе (например, метод ближайших соседей и случайный лес). Часто на практике оказывается возможным увеличить качество предсказания путем смешивания подобных разных моделей. Давайте посмотрим, действительно ли это дает прирост в качестве.\n",
    "\n",
    "Выберите из построенных моделей двух предыдущих пунктов две, которые дали наибольшее начество на кросс-валидации (обозначим их $clf_1$ и $clf_2$). Далее постройте новый классификатор, ответ которого на некотором объекте $x$ будет выглядеть следующим образом:\n",
    "\n",
    "$$result(x) = clf_1(x) \\cdot \\alpha + clf_2(x) \\cdot (1 - \\alpha)$$\n",
    "\n",
    "где $\\alpha$ — гиперпараметр нового классификатора.\n",
    "\n",
    "**Задание 12 (1 балл)** Подберите по сетке от 0 до 1 $\\alpha$ для этого классификатора с помощью 5-Fold CV и постройте график качества в зависимости от $\\alpha$ (аналогичный графику в разделе \"Обучение классификаторов и оценка качества\"). Дал ли этот подход прирост к качеству по сравнению с моделями ранее?"
   ]
  },
  {
   "cell_type": "code",
   "execution_count": 233,
   "metadata": {},
   "outputs": [],
   "source": [
    "# Возьмем классификаторы из предыдущих пунктов\n",
    "knn = KNeighborsClassifier(metric='manhattan', n_neighbors=49)\n",
    "sgd = SGDClassifier(penalty = 'l1', loss='log')"
   ]
  },
  {
   "cell_type": "code",
   "execution_count": 272,
   "metadata": {},
   "outputs": [
    {
     "name": "stderr",
     "output_type": "stream",
     "text": [
      "100%|██████████| 50/50 [15:06<00:00, 18.13s/it]\n"
     ]
    },
    {
     "data": {
      "text/plain": [
       "[0.9101490146245901,\n",
       " 0.91051447246188,\n",
       " 0.9101214828059849,\n",
       " 0.9109360647877809,\n",
       " 0.910836527835318,\n",
       " 0.9109970285533336,\n",
       " 0.9113913591245945,\n",
       " 0.9112092205341178,\n",
       " 0.9112059241259335,\n",
       " 0.9108043217332986,\n",
       " 0.9107773331199069,\n",
       " 0.9108630273878997,\n",
       " 0.9108637053849812,\n",
       " 0.9102510504546218,\n",
       " 0.9104571580674288,\n",
       " 0.9100731294267808,\n",
       " 0.9101012117046305,\n",
       " 0.9092457155105818,\n",
       " 0.9095535041889162,\n",
       " 0.9094982838143378,\n",
       " 0.9089589565313567,\n",
       " 0.9086225095516417,\n",
       " 0.9083043937741235,\n",
       " 0.9077143327853758,\n",
       " 0.9079069024556515,\n",
       " 0.9073394237141927,\n",
       " 0.9066582575083133,\n",
       " 0.9058617859372585,\n",
       " 0.9052581215991161,\n",
       " 0.9044392346371171,\n",
       " 0.9039285279314324,\n",
       " 0.9038420973911752,\n",
       " 0.9026415345133723,\n",
       " 0.9021234949152259,\n",
       " 0.9010090847547293,\n",
       " 0.9003561021870208,\n",
       " 0.8994309584521781,\n",
       " 0.8986244386968464,\n",
       " 0.8973626396065025,\n",
       " 0.8963396751336805,\n",
       " 0.8949208988095657,\n",
       " 0.8939320126311721,\n",
       " 0.8926133753999231,\n",
       " 0.8914189897093603,\n",
       " 0.8901194706727935,\n",
       " 0.8886589595524992,\n",
       " 0.8874056438641714,\n",
       " 0.8859318958186047,\n",
       " 0.8844250769311804,\n",
       " 0.8810802083509381]"
      ]
     },
     "execution_count": 272,
     "metadata": {},
     "output_type": "execute_result"
    }
   ],
   "source": [
    "# Пройдемся циклом по каждому альфа от 0 до 1 (я взял 50 значений)\n",
    "# Будем сохранять средний AUC ROC для каждого альфа (для каждой итерации)\n",
    "mean_AUC_ROC = []\n",
    "\n",
    "# 5-fold CV как указано в условии\n",
    "kf = KFold(5)\n",
    "\n",
    "for alpha in tqdm(linspace(0, 1, 50)):\n",
    "    \n",
    "    AUC_ROC = []\n",
    "    \n",
    "    for train_index, test_index in kf.split(X_all_new):\n",
    "        \n",
    "        X_train, X_test = X_all_new.iloc[train_index,:], X_all_new.iloc[test_index,:]\n",
    "        y_train, y_test = y.iloc[train_index,:], y.iloc[test_index,:]\n",
    "\n",
    "        knn.fit(X_train, y_train)\n",
    "        sgd.fit(X_train, y_train)\n",
    "\n",
    "        # берем [:,1], чтобы брать вероятности положительного класса   \n",
    "        knn_pred = knn.predict_proba(X_test)[:,1]\n",
    "        sgd_pred = sgd.predict_proba(X_test)[:,1]\n",
    "        \n",
    "        # посчитаем средневзвешенный прогноз двух алгоритмов        \n",
    "        y_pred_prob = alpha * knn_pred + (1-alpha) * sgd_pred\n",
    "        \n",
    "        AUC_ROC.append(roc_auc_score(y_test, y_pred_prob))\n",
    "        \n",
    "    mean_AUC_ROC.append(np.mean(AUC_ROC))\n",
    "\n",
    "mean_AUC_ROC"
   ]
  },
  {
   "cell_type": "code",
   "execution_count": 273,
   "metadata": {},
   "outputs": [],
   "source": [
    "mean_AUC_ROC = np.array(mean_AUC_ROC)\n",
    "# Коряво, конечно, но не хотел запариваться и делать красиво расчет оптимпльного alpha\n",
    "optimal_alpha = (1-0)/50 * mean_AUC_ROC.argmax()\n",
    "optimal_alpha\n",
    "\n",
    "alphas = np.linspace(0, 1, 50)"
   ]
  },
  {
   "cell_type": "code",
   "execution_count": 274,
   "metadata": {},
   "outputs": [
    {
     "data": {
      "text/plain": [
       "Text(0.5, 1.0, 'ROC-AUC depending on Alpha')"
      ]
     },
     "execution_count": 274,
     "metadata": {},
     "output_type": "execute_result"
    },
    {
     "data": {
      "image/png": "[encoded data removed]",
      "text/plain": [
       "<Figure size 1440x360 with 1 Axes>"
      ]
     },
     "metadata": {
      "needs_background": "light"
     },
     "output_type": "display_data"
    }
   ],
   "source": [
    "fig, ax = plt.subplots(figsize=(20, 5))\n",
    "ax.plot(alphas, mean_AUC_ROC, color='y')\n",
    "\n",
    "ax.set_ylabel('ROC-AUC')\n",
    "ax.set_xlabel('Alpha')\n",
    "\n",
    "ax.set_title('ROC-AUC depending on Alpha')"
   ]
  },
  {
   "cell_type": "code",
   "execution_count": 275,
   "metadata": {},
   "outputs": [
    {
     "name": "stdout",
     "output_type": "stream",
     "text": [
      "Максимальное значение mean_AUC_ROC: 0.9113913591245945 оно достигается при alpha 0.12\n"
     ]
    }
   ],
   "source": [
    "print(\"Максимальное значение mean_AUC_ROC:\",max(mean_AUC_ROC), \"оно достигается при alpha\", optimal_alpha)"
   ]
  },
  {
   "cell_type": "markdown",
   "metadata": {},
   "source": [
    "**Выводы:** Я обучал модель c категориальными переменными, это было довольно долго. Относительно результатов отдельно SGD и KNN, результаты при смешивании двух моделей оказались немного лучше: 0.91 mean_ROC_AUC после смешивания моделей vs 0.90 и 0.88 mean_ROC_AUC до смешивания"
   ]
  },
  {
   "cell_type": "markdown",
   "metadata": {},
   "source": [
    "## Сравнение построенных моделей\n",
    "\n",
    "![](http://cdn.shopify.com/s/files/1/0870/1066/files/compare_e8b89647-3cb6-4871-a976-2e36e5987773.png?1750043340268621065)\n",
    "\n",
    "После того как было построено много моделей хотелось бы сравнить их между собой. Для этого можно построить \"ящик с усами\" (диаграму размаха). Для этого можно воспользоваться библиотекой [matplotlib](https://matplotlib.org/3.1.0/api/_as_gen/matplotlib.pyplot.boxplot.html) или [seaborn](https://seaborn.pydata.org/generated/seaborn.boxplot.html).\n",
    "\n",
    "**Задание 13 (1 балл)** Для каждого типа классификатора (kNN, DecisionTree, RandomForest, SGD classifier), а так же смешанной модели выберите тот, которых давал наилучшее качество на кросс-валидации (с учетом подобранных гиперпараметров) и постройте диаграмму размаха (все классификаторы должны быть изображены на одном графике).\n",
    " \n",
    "Сделайте общие итоговые выводы о классификаторах с точки зрения их работы с признаками и сложности самой модели (какие гиперпараметры есть у модели, сильно ли изменение значения гиперпараметра влияет на качество модели)."
   ]
  },
  {
   "cell_type": "code",
   "execution_count": 276,
   "metadata": {},
   "outputs": [],
   "source": [
    "# Давайте обучим наш смешанный алгоритм с оптимальным альфа\n",
    "\n",
    "AUC_ROC_list = []\n",
    "kf = KFold(5)\n",
    "\n",
    "for train_index, test_index in kf.split(X_real_new):\n",
    "    \n",
    "    X_train, X_test = X_all_new.iloc[train_index,:], X_all_new.iloc[test_index,:]\n",
    "    y_train, y_test = y.iloc[train_index,:], y.iloc[test_index,:]\n",
    "\n",
    "    # берем [:,1], чтобы брать вероятности положительного класса   \n",
    "    knn_pred = knn.predict_proba(X_test)[:,1]\n",
    "    sgd_pred = sgd.predict_proba(X_test)[:,1]\n",
    "\n",
    "    # посчитаем средневзвешенный прогноз двух алгоритмов        \n",
    "    y_pred_prob = optimal_alpha * knn_pred + (1-optimal_alpha) * sgd_pred\n",
    "    AUC_ROC_list.append(roc_auc_score(y_test, y_pred_prob))"
   ]
  },
  {
   "cell_type": "code",
   "execution_count": 294,
   "metadata": {},
   "outputs": [],
   "source": [
    "# Для остальных алгоритмов тоже посчитаем ROC-AUC (на самом деле считали в предыдущих пунктах)\n",
    "cv_ROC_AUC_knn = cross_val_score(knn, X_all_new, y, scoring='roc_auc')\n",
    "cv_ROC_AUC_sgd = cross_val_score(sgd, X_all_new, y, scoring='roc_auc')\n",
    "cv_ROC_AUC_tree = cross_val_score(tree, X_all_new, y, scoring='roc_auc')\n",
    "cv_ROC_AUC_rf = cross_val_score(rf, X_all_new, y, scoring='roc_auc')\n",
    "cv_ROC_AUC_gb = cross_val_score(gb, X_all_new, y, scoring='roc_auc')"
   ]
  },
  {
   "cell_type": "code",
   "execution_count": 297,
   "metadata": {},
   "outputs": [
    {
     "data": {
      "text/plain": [
       "Text(0.5, 1.0, 'ROC_AUC comparison')"
      ]
     },
     "execution_count": 297,
     "metadata": {},
     "output_type": "execute_result"
    },
    {
     "data": {
      "image/png": "[encoded data removed]",
      "text/plain": [
       "<Figure size 1440x360 with 1 Axes>"
      ]
     },
     "metadata": {
      "needs_background": "light"
     },
     "output_type": "display_data"
    }
   ],
   "source": [
    "# Используем функцию boxplot для этого графика\n",
    "fig, ax = plt.subplots(figsize=(20,5))\n",
    "ax.boxplot([cv_ROC_AUC_knn, cv_ROC_AUC_sgd, cv_ROC_AUC_tree, cv_ROC_AUC_rf, cv_ROC_AUC_gb, AUC_ROC_list])\n",
    "ax.set_xticklabels(['KNN', \n",
    "                    'SGD Linear Classifier', \n",
    "                    'Decision Tree',\n",
    "                    'Random Forest', \n",
    "                    'Gradient Boosting',\n",
    "                    'Mixed model: SGD + KNN'])\n",
    "\n",
    "ax.set_title(\"ROC_AUC comparison\")"
   ]
  },
  {
   "cell_type": "markdown",
   "metadata": {},
   "source": [
    "**Выводы:** \n",
    "\n",
    " - KNN: показал худшее качество, особенно плохо работает, когда признаки не масштабированы. Гиперпараметры: количество соседей, метрика\n",
    " - SGDClassifier: довольно неплохое качество, учитывая, что это не композиция нескольких алгоритмов, а один, качество стало лучше после масштабирования признаков. Гиперпараметры: loss, penalty\n",
    " - DecisonTree: хорошо работает, если данные не масштабированы, но после масштабирования стал уступать предыдущим алгоритмам. Гиперпараметры: глубина дерева, критерий разбиения\n",
    " - RandomForest: показывает хорошие результаты, относительно одного дерева, но при этом сушественно больше времени требуется на его обучение. Гиперпараметры: критерий разбиения в деревьях, max_features (при фиксированном количестве деревьев, найденном ранее)\n",
    " - GradientBoosting: судя по финальному графика - этот алгоритм является наилучшим для решения задачи классификации на представленных данных. Гиперпараметры: критерий разбиения в деревьях, max_features (при фиксированном количестве деревьев, найденном ранее) \n",
    " - Mixed KNN + SGD: эта модель получилась после объединения двух моделей KNN и SGD (их средневзвешенная оценка, где оптимальные веса подбирались перебором) и показала отличные результаты"
   ]
  }
 ],
 "metadata": {
  "kernelspec": {
   "display_name": "Python 3",
   "language": "python",
   "name": "python3"
  },
  "language_info": {
   "codemirror_mode": {
    "name": "ipython",
    "version": 3
   },
   "file_extension": ".py",
   "mimetype": "text/x-python",
   "name": "python",
   "nbconvert_exporter": "python",
   "pygments_lexer": "ipython3",
   "version": "3.8.3"
  }
 },
 "nbformat": 4,
 "nbformat_minor": 1
}
